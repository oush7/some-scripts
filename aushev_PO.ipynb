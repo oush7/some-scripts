{
 "cells": [
  {
   "cell_type": "code",
   "execution_count": 3,
   "metadata": {},
   "outputs": [],
   "source": [
    "import os\n",
    "os.environ['CUDA_VISIBLE_DEVICES']='1'\n",
    "import torch\n",
    "\n",
    "from transformers import AutoTokenizer, AutoModelForCausalLM"
   ]
  },
  {
   "cell_type": "markdown",
   "metadata": {},
   "source": [
    "Языковая модель (LLM) - это статистическая модель, которая используется для предсказания вероятности последовательности слов или фраз в рамках определенного языка. Она используется в различных областях обработки естественного языка, таких как машинный перевод, распознавание речи, исправление ошибок и другие. Языковая модель помогает компьютеру понять и генерировать естественный язык, учитывая контекст и вероятность последовательности слов."
   ]
  },
  {
   "cell_type": "markdown",
   "metadata": {},
   "source": [
    "При работе LLM используют разные подходы к генерации текста, самый стандартный это autoregressive sampling, однако существуют и другие более продвинутые методы, которые помогают ускорить работу модели, в данной работе будет реализован стандартный метод сэмплировния autoregressive sampling, а также более умный метод speculative sampling. Будет проведен сравнительный анализ эффективности двух методов"
   ]
  },
  {
   "cell_type": "markdown",
   "metadata": {},
   "source": [
    "### Autoregressive Sampling"
   ]
  },
  {
   "cell_type": "markdown",
   "metadata": {},
   "source": [
    "Ниже представлен стандартный алгоритм сэмплирования языковых моделей, каждый следующий токен последовательности генерируется с учетом предыдущих."
   ]
  },
  {
   "cell_type": "markdown",
   "metadata": {},
   "source": [
    "<img width=\"654\" alt=\"image\" src=\"https://github.com/markovka17/dla/assets/20357655/db624e40-d4f0-4e36-88e7-b58a6c646738\">"
   ]
  },
  {
   "cell_type": "markdown",
   "metadata": {},
   "source": [
    "Реализуем этот алгоритм для модели GPT-NEO-1.3B, на вход дадим модели предложение The quick brown fox jumps, посмотрим что дальше сгенерирует модель для этого предложения"
   ]
  },
  {
   "cell_type": "code",
   "execution_count": 4,
   "metadata": {},
   "outputs": [
    {
     "data": {
      "application/vnd.jupyter.widget-view+json": {
       "model_id": "5b308b1ba40a4b44859692dd92f6b146",
       "version_major": 2,
       "version_minor": 0
      },
      "text/plain": [
       "tokenizer_config.json:   0%|          | 0.00/619 [00:00<?, ?B/s]"
      ]
     },
     "metadata": {},
     "output_type": "display_data"
    },
    {
     "data": {
      "application/vnd.jupyter.widget-view+json": {
       "model_id": "5a0afdafdbfd402380b88ec76afc6f09",
       "version_major": 2,
       "version_minor": 0
      },
      "text/plain": [
       "vocab.json:   0%|          | 0.00/798k [00:00<?, ?B/s]"
      ]
     },
     "metadata": {},
     "output_type": "display_data"
    },
    {
     "data": {
      "application/vnd.jupyter.widget-view+json": {
       "model_id": "0c78264020f04bac9f138a9f0d1ee771",
       "version_major": 2,
       "version_minor": 0
      },
      "text/plain": [
       "merges.txt:   0%|          | 0.00/456k [00:00<?, ?B/s]"
      ]
     },
     "metadata": {},
     "output_type": "display_data"
    },
    {
     "data": {
      "application/vnd.jupyter.widget-view+json": {
       "model_id": "8ef81f632d6e425ca9f670a08c05118e",
       "version_major": 2,
       "version_minor": 0
      },
      "text/plain": [
       "tokenizer.json:   0%|          | 0.00/1.37M [00:00<?, ?B/s]"
      ]
     },
     "metadata": {},
     "output_type": "display_data"
    },
    {
     "data": {
      "application/vnd.jupyter.widget-view+json": {
       "model_id": "48ec4348ae5d40568056ee6f34cd3a60",
       "version_major": 2,
       "version_minor": 0
      },
      "text/plain": [
       "added_tokens.json:   0%|          | 0.00/4.04k [00:00<?, ?B/s]"
      ]
     },
     "metadata": {},
     "output_type": "display_data"
    },
    {
     "data": {
      "application/vnd.jupyter.widget-view+json": {
       "model_id": "1c15d1b42b4540f8973914f3878832bf",
       "version_major": 2,
       "version_minor": 0
      },
      "text/plain": [
       "special_tokens_map.json:   0%|          | 0.00/357 [00:00<?, ?B/s]"
      ]
     },
     "metadata": {},
     "output_type": "display_data"
    },
    {
     "data": {
      "application/vnd.jupyter.widget-view+json": {
       "model_id": "9708d5392f1543b3b00b1aa0511d2c0c",
       "version_major": 2,
       "version_minor": 0
      },
      "text/plain": [
       "config.json:   0%|          | 0.00/1.35k [00:00<?, ?B/s]"
      ]
     },
     "metadata": {},
     "output_type": "display_data"
    },
    {
     "data": {
      "application/vnd.jupyter.widget-view+json": {
       "model_id": "0f9e389e4a84474fbb847ca4e5fb446e",
       "version_major": 2,
       "version_minor": 0
      },
      "text/plain": [
       "model.safetensors:   0%|          | 0.00/5.31G [00:00<?, ?B/s]"
      ]
     },
     "metadata": {},
     "output_type": "display_data"
    },
    {
     "name": "stdout",
     "output_type": "stream",
     "text": [
      "Generated text:\n",
      " The quick brown fox jumps over the lazy dog\" \"♪ Ooh, ooh, ooh\" \"♪ A little bit ooh, a little bit frack, a little bit frack ♪\" \"♪ A little bit ooh, a little bit frack, a little bit frack.\" \"♪ ♪\" \"Why don't you humans inside?\" \"♪ Hey, I cannae see it laff ya, take my advice\" \"\n"
     ]
    }
   ],
   "source": [
    "# Ensure that your device is set correctly (GPU or CPU)\n",
    "device = 'cuda'\n",
    "\n",
    "# Load pre-trained model and tokenizer\n",
    "tokenizer = AutoTokenizer.from_pretrained(\"EleutherAI/gpt-j-6B\")\n",
    "model = AutoModelForCausalLM.from_pretrained('EleutherAI/gpt-neo-1.3B', torch_dtype=torch.float16).to(device)\n",
    "model.eval()  # Set the model to evaluation mode\n",
    "\n",
    "# Prepare a text prompt\n",
    "text_prompt = [\"The quick brown fox jumps\"]\n",
    "inputs = tokenizer(text_prompt, return_tensors='pt').to(device)  # Tokenize the text prompt and convert to tensor\n",
    "\n",
    "max_length = 100  # Maximum length of the generated text\n",
    "temperature = 1.0  # Sampling temperature, higher values mean more randomness\n",
    "\n",
    "with torch.no_grad():  # Disable gradient calculation for inference\n",
    "    output_sequence = inputs['input_ids']\n",
    "    for _ in range(max_length - inputs['input_ids'].size(1)):\n",
    "        # Predict the next token\n",
    "        logits = model(output_sequence).logits[:, -1, :]\n",
    "        \n",
    "        # Apply temperature\n",
    "        logits = logits / temperature\n",
    "        \n",
    "        # Sample the next token from the probability distribution\n",
    "        probabilities = torch.nn.functional.softmax(logits, dim=-1)\n",
    "        next_token = torch.multinomial(probabilities, num_samples=1)\n",
    "        \n",
    "        # Append the predicted token to the output sequence\n",
    "        output_sequence = torch.cat([output_sequence, next_token], dim=1)\n",
    "\n",
    "        # Check if the end-of-sequence token (EOS) was generated\n",
    "        if next_token.item() == tokenizer.eos_token_id:\n",
    "            break\n",
    "\n",
    "# Decode and print the generated text\n",
    "generated_text = tokenizer.decode(output_sequence.squeeze(), skip_special_tokens=True)\n",
    "print(\"Generated text:\\n\", generated_text)\n"
   ]
  },
  {
   "cell_type": "markdown",
   "metadata": {},
   "source": [
    "Получили сгенерированный текст, видим, что сначала модель уловила смысл предложения и корректно его продолжила, а далее уже начала уходить из контекста и придумывать свое продолжение"
   ]
  },
  {
   "cell_type": "markdown",
   "metadata": {},
   "source": [
    "Возьмем модель побольше, а именно GPTJ-6B, у которой 6 миллиардов обучаемых параметров"
   ]
  },
  {
   "cell_type": "code",
   "execution_count": 5,
   "metadata": {},
   "outputs": [
    {
     "data": {
      "application/vnd.jupyter.widget-view+json": {
       "model_id": "afb5aba66e5a41b382ff79b0628e03a2",
       "version_major": 2,
       "version_minor": 0
      },
      "text/plain": [
       "config.json:   0%|          | 0.00/930 [00:00<?, ?B/s]"
      ]
     },
     "metadata": {},
     "output_type": "display_data"
    },
    {
     "data": {
      "application/vnd.jupyter.widget-view+json": {
       "model_id": "77996d78dac04068b06c7b1675af822a",
       "version_major": 2,
       "version_minor": 0
      },
      "text/plain": [
       "pytorch_model.bin:   0%|          | 0.00/24.2G [00:00<?, ?B/s]"
      ]
     },
     "metadata": {},
     "output_type": "display_data"
    },
    {
     "name": "stderr",
     "output_type": "stream",
     "text": [
      "/home/aushevis/speech_course/speech_course/lib/python3.10/site-packages/torch/_utils.py:776: UserWarning: TypedStorage is deprecated. It will be removed in the future and UntypedStorage will be the only storage class. This should only matter to you if you are using storages directly.  To access UntypedStorage directly, use tensor.untyped_storage() instead of tensor.storage()\n",
      "  return self.fget.__get__(instance, owner)()\n"
     ]
    }
   ],
   "source": [
    "large_model = AutoModelForCausalLM.from_pretrained(\"EleutherAI/gpt-j-6B\", torch_dtype=torch.float16).to(device)"
   ]
  },
  {
   "cell_type": "markdown",
   "metadata": {},
   "source": [
    "Посмотрим на слои этой модель"
   ]
  },
  {
   "cell_type": "code",
   "execution_count": 6,
   "metadata": {},
   "outputs": [
    {
     "data": {
      "text/plain": [
       "GPTJForCausalLM(\n",
       "  (transformer): GPTJModel(\n",
       "    (wte): Embedding(50400, 4096)\n",
       "    (drop): Dropout(p=0.0, inplace=False)\n",
       "    (h): ModuleList(\n",
       "      (0-27): 28 x GPTJBlock(\n",
       "        (ln_1): LayerNorm((4096,), eps=1e-05, elementwise_affine=True)\n",
       "        (attn): GPTJAttention(\n",
       "          (attn_dropout): Dropout(p=0.0, inplace=False)\n",
       "          (resid_dropout): Dropout(p=0.0, inplace=False)\n",
       "          (k_proj): Linear(in_features=4096, out_features=4096, bias=False)\n",
       "          (v_proj): Linear(in_features=4096, out_features=4096, bias=False)\n",
       "          (q_proj): Linear(in_features=4096, out_features=4096, bias=False)\n",
       "          (out_proj): Linear(in_features=4096, out_features=4096, bias=False)\n",
       "        )\n",
       "        (mlp): GPTJMLP(\n",
       "          (fc_in): Linear(in_features=4096, out_features=16384, bias=True)\n",
       "          (fc_out): Linear(in_features=16384, out_features=4096, bias=True)\n",
       "          (act): NewGELUActivation()\n",
       "          (dropout): Dropout(p=0.0, inplace=False)\n",
       "        )\n",
       "      )\n",
       "    )\n",
       "    (ln_f): LayerNorm((4096,), eps=1e-05, elementwise_affine=True)\n",
       "  )\n",
       "  (lm_head): Linear(in_features=4096, out_features=50400, bias=True)\n",
       ")"
      ]
     },
     "execution_count": 6,
     "metadata": {},
     "output_type": "execute_result"
    }
   ],
   "source": [
    "large_model.eval()"
   ]
  },
  {
   "cell_type": "markdown",
   "metadata": {},
   "source": [
    "Прошлый подход для сэмплирования работает, но существуют методы более быстрой генерации, одним из таких является speculative sampling, предложенный в статье https://arxiv.org/pdf/2302.01318"
   ]
  },
  {
   "cell_type": "markdown",
   "metadata": {},
   "source": [
    "Идея speculative sampling заключается в следующем, мы берем две языковых модели:\n",
    "\n",
    "Маленькую быструю драфт модель (например, EleutherAI/gpt-neo-1.3B, у которой только 1.3 миллиарда параметров)\n",
    "И большую, медленную таргет модель (в нашем случае это EleutherAI/gpt-j-6B), которой мы хотим генерировать ответ\n",
    "\n",
    "Идея заключается в том, что драфт модель предполагает, что результатом генерации таргет модели будут какие-то токены, в то время как целевая модель определяет, сколько из этих токенов мы должны принять. Вот краткое описание алгоритма:\n",
    "\n",
    "Драфт модель декодирует токены обычным способом авторегрессии.\n",
    "Мы получаем вероятностные выходные данные таргет и драфт моделей для новой предсказанной последовательности.\n",
    "Мы сравниваем вероятности таргет и драфт моделей, чтобы определить, сколько токенов мы хотим сохранить, основываясь на некоторых критериях отклонения. Если токен отклонен, мы проводим повторную выборку, используя комбинацию двух распределений, и больше не принимаем токены.\n",
    "Если все токены приняты, мы можем выбрать дополнительный конечный токен из выходных данных вероятности таргет модели.\n",
    "\n",
    "Благодаря такому подходу мы меньше используем большую таргет модель, а большинство вычислений производит маленькая модель, благодаря чему и происходит выигрыш по времени"
   ]
  },
  {
   "cell_type": "markdown",
   "metadata": {},
   "source": [
    "<img width=\"635\" alt=\"image\" src=\"https://github.com/markovka17/dla/assets/20357655/3954894d-8735-4f92-a835-d04eac74f190\">"
   ]
  },
  {
   "cell_type": "markdown",
   "metadata": {},
   "source": [
    "Реализуем speculative sampling"
   ]
  },
  {
   "cell_type": "code",
   "execution_count": 38,
   "metadata": {},
   "outputs": [],
   "source": [
    "@torch.no_grad()\n",
    "def speculative_sampling(x, draft_model, target_model, N, K, use_cache=True, debug=True):\n",
    "    # NOTE: paper indexes arrays starting from 1, python indexes from 0, so\n",
    "    # we have to add an extra -1 term when indexing using n, T, or t\n",
    "    with torch.no_grad():\n",
    "        n = len(x)\n",
    "        one = torch.tensor(1)\n",
    "        output_sequence = x['input_ids']\n",
    "        generated_tokens = 0\n",
    "        accepted_tokens = 0\n",
    "        while output_sequence.shape[1] < N:\n",
    "            # Step 1: auto-regressive decode K tokens from draft model and get final p\n",
    "            # logits_draft = torch.rand(1)\n",
    "            res = draft_model.generate(output_sequence, \n",
    "                                       max_new_tokens=K, \n",
    "                                       output_scores=True, \n",
    "                                       return_dict_in_generate=True, \n",
    "                                       do_sample=True,\n",
    "                                       pad_token_id=tokenizer.eos_token_id, use_cache=use_cache)\n",
    "            logits_draft = torch.concat(res.scores).unsqueeze(0)\n",
    "            output_sequence = res.sequences\n",
    "            generated_tokens += logits_draft.shape[1]\n",
    "            \n",
    "            # Step 2: target model forward passes on x_draft\n",
    "            seq_len = output_sequence.shape[1]\n",
    "            draft_len = logits_draft.shape[1]\n",
    "            logits_target = target_model(output_sequence).logits[:, seq_len - draft_len - 1:, :]\n",
    "\n",
    "            # Step 3: append draft tokens based on rejection criterion and resample\n",
    "            # a token on rejection\n",
    "            all_accepted = True\n",
    "            probs_draft = torch.nn.functional.softmax(logits_draft[:, :, :], dim=-1)\n",
    "            probs_target = torch.nn.functional.softmax(logits_target[:, :, :probs_draft.shape[2]], dim=-1)\n",
    "            for t in range(probs_draft.shape[1]):\n",
    "                r = torch.rand(output_sequence.shape[0], device=device)\n",
    "                predicted_token = output_sequence[:, seq_len - draft_len + t - 1]\n",
    "\n",
    "                if torch.all(r <= torch.min(one, probs_target[:, t , predicted_token] / probs_draft[:, t, predicted_token])):\n",
    "                    accepted_tokens += 1\n",
    "                    continue\n",
    "                else:\n",
    "                    all_accepted = False\n",
    "                    probabilities = torch.nn.functional.relu(probs_target[:, t,:] - probs_draft[:, t, :])\n",
    "                    probabilities = probabilities / probabilities.sum()\n",
    "                    next_token = torch.multinomial(probabilities, num_samples=1)\n",
    "                    output_sequence = output_sequence[:, :seq_len - draft_len + t]\n",
    "                    output_sequence = torch.cat([output_sequence, next_token], dim=1)\n",
    "                    break\n",
    "            \n",
    "            # Step 4: if all draft tokens were accepted, sample a final token\n",
    "            if all_accepted:\n",
    "                # print(\"ALL accepted\")\n",
    "                probabilities = torch.nn.functional.softmax(logits_target[:, -1 ,:], dim=-1)\n",
    "                next_token = torch.multinomial(probs_target[:, -1, :], num_samples=1)\n",
    "                output_sequence = torch.cat([output_sequence, next_token], dim=1)\n",
    "                \n",
    "            assert n == len(x), f\"{n} {len(x)}\"\n",
    "        acceptance_rate = accepted_tokens / generated_tokens\n",
    "    return output_sequence, acceptance_rate"
   ]
  },
  {
   "cell_type": "markdown",
   "metadata": {},
   "source": [
    "Протестируем работу алгоритма"
   ]
  },
  {
   "cell_type": "code",
   "execution_count": 45,
   "metadata": {},
   "outputs": [
    {
     "name": "stdout",
     "output_type": "stream",
     "text": [
      "Acceptence rate:  0.9333333333333333\n",
      "Generated text:\n",
      " The quick brown fox jumps over the lazy dog….\n",
      "\n",
      "Tag Archive\n",
      "\n",
      "The quick brown fox jumps over the lazy dog in the morning, and you never notice it’s missing. “D” is for diabetic shock.\n",
      "\n",
      "Nothing is more annoying and embarrassing than having to admit that you have a disease. I went to a medical conference a few weeks ago and was surprised that I came back with a.1% chance that I have Diabetic Shock.\n",
      "\n",
      "I\n"
     ]
    }
   ],
   "source": [
    "output_sequence, acceptance_rate = speculative_sampling(inputs, model, large_model, 100, 3)\n",
    "generated_text = tokenizer.decode(output_sequence.squeeze(), skip_special_tokens=True)\n",
    "print('Acceptence rate: ', acceptance_rate)\n",
    "print(\"Generated text:\\n\", generated_text)"
   ]
  },
  {
   "cell_type": "markdown",
   "metadata": {},
   "source": [
    "Сравним эффективность стандартного подхода и speculative sampling, для этого будем использовать torch.profiler для оценки производительности CPU и GPU "
   ]
  },
  {
   "cell_type": "code",
   "execution_count": 50,
   "metadata": {},
   "outputs": [],
   "source": [
    "from typing import Optional, Callable, Dict, Sequence\n",
    "\n",
    "from dataclasses import dataclass, field\n",
    "from tqdm import trange\n",
    "import time\n",
    "\n",
    "from matplotlib import pyplot as plt\n",
    "\n",
    "import torch.nn.functional as F\n",
    "from torch import nn\n",
    "from torch.amp import autocast\n",
    "import torch.backends.xnnpack\n",
    "from torch.profiler import profile, schedule, ProfilerActivity"
   ]
  },
  {
   "cell_type": "code",
   "execution_count": 51,
   "metadata": {},
   "outputs": [],
   "source": [
    "@dataclass\n",
    "class ProfilerConfig:\n",
    "    scheduler: Optional[Callable[[int], int]] = field(default=None, metadata={\"omegaconf_ignore\": True})\n",
    "    num_steps: int = field(init=False)\n",
    "    amp: bool = False\n",
    "\n",
    "    def __post_init__(self):\n",
    "        if self.scheduler is None:\n",
    "            self.scheduler = {\"skip_first\": 0, \"wait\": 1, \"warmup\": 1, \"active\": 3, \"repeat\": 0}\n",
    "\n",
    "        self.num_steps = sum([v for k, v in self.scheduler.items() if k != \"repeat\"])\n",
    "        self.scheduler = schedule(**self.scheduler)\n",
    "\n",
    "@torch.inference_mode()\n",
    "def profile_model(model: nn.Module, input: Dict[str, torch.Tensor], config: ProfilerConfig):\n",
    "    training_state = model.training\n",
    "    model.eval()\n",
    "\n",
    "    with autocast(dtype=torch.float16, device_type=\"cuda\", enabled=config.amp), profile(\n",
    "        activities=[ProfilerActivity.CUDA ],\n",
    "        schedule=config.scheduler\n",
    "    ) as p:\n",
    "        for _ in range(config.num_steps):\n",
    "            _ = model(**input)\n",
    "            p.step()\n",
    "\n",
    "    model.train(training_state)\n",
    "    return p"
   ]
  },
  {
   "cell_type": "code",
   "execution_count": 52,
   "metadata": {},
   "outputs": [],
   "source": [
    "class DefaultModel(nn.Module):\n",
    "    def __init__(self, model, max_length):\n",
    "        super().__init__()\n",
    "        self.model = model\n",
    "        self.max_length = max_length\n",
    "\n",
    "    def forward(self, text_prompt):\n",
    "        with torch.no_grad():  # Disable gradient calculation for inference\n",
    "            input = tokenizer(text_prompt, return_tensors='pt').to(device)\n",
    "            output_sequence = input['input_ids']\n",
    "            for _ in range(self.max_length - input['input_ids'].size(1)):\n",
    "                # Predict the next token\n",
    "                logits = model(output_sequence).logits[:, -1, :]\n",
    "                \n",
    "                # Sample the next token from the probability distribution\n",
    "                probabilities = torch.nn.functional.softmax(logits, dim=-1)\n",
    "                next_token = torch.multinomial(probabilities, num_samples=1)\n",
    "                \n",
    "                # Append the predicted token to the output sequence\n",
    "                output_sequence = torch.cat([output_sequence, next_token], dim=1)\n",
    "\n",
    "                # Check if the end-of-sequence token (EOS) was generated\n",
    "                # if next_token.item() == tokenizer.eos_token_id:\n",
    "                #     break\n",
    "            return output_sequence\n",
    "        \n",
    "class SpsModel(nn.Module):\n",
    "    def __init__(self, draft_model, target_model, max_length):\n",
    "        super().__init__()\n",
    "        self.draft_model = draft_model\n",
    "        self.target_model = target_model\n",
    "        self.max_length = max_length\n",
    "\n",
    "    def forward(self, text_prompt, K):\n",
    "        return speculative_sampling(text_prompt, self.draft_model, self.target_model, self.max_length, K)"
   ]
  },
  {
   "cell_type": "markdown",
   "metadata": {},
   "source": [
    "Сначала посмотрим сколько будет генерироваться текст длины 512 для стандартного метода"
   ]
  },
  {
   "cell_type": "code",
   "execution_count": 49,
   "metadata": {},
   "outputs": [
    {
     "name": "stderr",
     "output_type": "stream",
     "text": [
      "STAGE:2024-05-03 09:54:55 1597137:1597137 ActivityProfilerController.cpp:311] Completed Stage: Warm Up\n",
      "STAGE:2024-05-03 09:55:52 1597137:1597137 ActivityProfilerController.cpp:317] Completed Stage: Collection\n",
      "STAGE:2024-05-03 09:55:54 1597137:1597137 ActivityProfilerController.cpp:321] Completed Stage: Post Processing\n"
     ]
    },
    {
     "name": "stdout",
     "output_type": "stream",
     "text": [
      "-------------------------------------------------------  ------------  ------------  ------------  ------------  ------------  ------------  ------------  ------------  ------------  ------------  \n",
      "                                                   Name    Self CPU %      Self CPU   CPU total %     CPU total  CPU time avg     Self CUDA   Self CUDA %    CUDA total  CUDA time avg    # of Calls  \n",
      "-------------------------------------------------------  ------------  ------------  ------------  ------------  ------------  ------------  ------------  ------------  ------------  ------------  \n",
      "                                        cudaMemcpyAsync        16.13%        3.629s        16.13%        3.629s      91.753us       0.000us         0.00%       0.000us       0.000us         39552  \n",
      "                       Memcpy HtoD (Pageable -> Device)         0.00%       0.000us         0.00%       0.000us       0.000us      33.608ms         0.08%      33.608ms       0.921us         36510  \n",
      "                                  cudaStreamSynchronize        42.47%        9.554s        42.47%        9.554s     241.547us       0.000us         0.00%       0.000us       0.000us         39552  \n",
      "                                       cudaLaunchKernel        39.13%        8.803s        39.13%        8.803s       8.402us       0.000us         0.00%       0.000us       0.000us       1047762  \n",
      "void (anonymous namespace)::elementwise_kernel_with_...         0.00%       0.000us         0.00%       0.000us       0.000us       5.734ms         0.01%       5.734ms       1.885us          3042  \n",
      "void at::native::(anonymous namespace)::indexSelectS...         0.00%       0.000us         0.00%       0.000us       0.000us     557.000us         0.00%     557.000us       7.736us            72  \n",
      "void at::native::vectorized_elementwise_kernel<4, at...         0.00%       0.000us         0.00%       0.000us       0.000us        1.704s         4.05%        1.704s      15.346us        111033  \n",
      "void at::native::vectorized_elementwise_kernel<4, at...         0.00%       0.000us         0.00%       0.000us       0.000us       3.176ms         0.01%       3.176ms       2.088us          1521  \n",
      "void at::native::vectorized_elementwise_kernel<4, at...         0.00%       0.000us         0.00%       0.000us       0.000us       3.078ms         0.01%       3.078ms       2.024us          1521  \n",
      "void at::native::elementwise_kernel<128, 4, at::nati...         0.00%       0.000us         0.00%       0.000us       0.000us       5.845ms         0.01%       5.845ms       3.843us          1521  \n",
      "void at::native::vectorized_elementwise_kernel<4, at...         0.00%       0.000us         0.00%       0.000us       0.000us       3.893ms         0.01%       3.893ms       2.560us          1521  \n",
      "void at::native::unrolled_elementwise_kernel<at::nat...         0.00%       0.000us         0.00%       0.000us       0.000us     847.802ms         2.01%     847.802ms      22.296us         38025  \n",
      "void at::native::(anonymous namespace)::vectorized_l...         0.00%       0.000us         0.00%       0.000us       0.000us     591.512ms         1.41%     591.512ms       7.937us         74529  \n",
      "cudaOccupancyMaxActiveBlocksPerMultiprocessorWithFla...         0.98%     220.114ms         0.98%     220.114ms       0.281us       0.000us         0.00%       0.000us       0.000us        784643  \n",
      "ampere_fp16_s16816gemm_fp16_64x64_ldg8_f2f_stages_64...         0.00%       0.000us         0.00%       0.000us       0.000us      59.948ms         0.14%      59.948ms      25.231us          2376  \n",
      "void at::native::unrolled_elementwise_kernel<at::nat...         0.00%       0.000us         0.00%       0.000us       0.000us     783.058ms         1.86%     783.058ms      10.726us         73008  \n",
      "void gemmSN_TN_kernel<float, 128, 16, 2, 4, 6, 7, fa...         0.00%       0.000us         0.00%       0.000us       0.000us       1.088ms         0.00%       1.088ms       3.778us           288  \n",
      "void at::native::elementwise_kernel<128, 2, at::nati...         0.00%       0.000us         0.00%       0.000us       0.000us     911.864ms         2.17%     911.864ms      24.980us         36504  \n",
      "void at::native::elementwise_kernel<128, 4, at::nati...         0.00%       0.000us         0.00%       0.000us       0.000us        1.197s         2.84%        1.197s      32.780us         36504  \n",
      "void (anonymous namespace)::softmax_warp_forward<flo...         0.00%       0.000us         0.00%       0.000us       0.000us     661.000us         0.00%     661.000us       2.295us           288  \n",
      "                       ampere_fp16_sgemm_fp16_128x32_nn         0.00%       0.000us         0.00%       0.000us       0.000us     628.000us         0.00%     628.000us       4.361us           144  \n",
      "void at::native::elementwise_kernel<128, 4, at::nati...         0.00%       0.000us         0.00%       0.000us       0.000us     257.779ms         0.61%     257.779ms       7.062us         36504  \n",
      "ampere_fp16_s16816gemm_fp16_64x64_sliced1x2_ldg8_rel...         0.00%       0.000us         0.00%       0.000us       0.000us     101.671ms         0.24%     101.671ms      58.837us          1728  \n",
      "void cutlass::Kernel<cutlass_80_wmma_tensorop_f16_s1...         0.00%       0.000us         0.00%       0.000us       0.000us      72.426ms         0.17%      72.426ms      91.447us           792  \n",
      "void at::native::vectorized_elementwise_kernel<4, at...         0.00%       0.000us         0.00%       0.000us       0.000us        2.333s         5.54%        2.333s      21.305us        109512  \n",
      "void at::native::vectorized_elementwise_kernel<4, at...         0.00%       0.000us         0.00%       0.000us       0.000us     849.782ms         2.02%     849.782ms      23.279us         36504  \n",
      "void at::native::vectorized_elementwise_kernel<4, at...         0.00%       0.000us         0.00%       0.000us       0.000us     824.575ms         1.96%     824.575ms      22.589us         36504  \n",
      "void at::native::vectorized_elementwise_kernel<4, at...         0.00%       0.000us         0.00%       0.000us       0.000us     804.672ms         1.91%     804.672ms      22.043us         36504  \n",
      "void at::native::vectorized_elementwise_kernel<4, at...         0.00%       0.000us         0.00%       0.000us       0.000us        1.222s         2.90%        1.222s      33.485us         36504  \n",
      "void cutlass::Kernel<cutlass_75_wmma_tensorop_f16_s1...         0.00%       0.000us         0.00%       0.000us       0.000us      39.580ms         0.09%      39.580ms     527.733us            75  \n",
      "void at::native::(anonymous namespace)::cunn_SoftMax...         0.00%       0.000us         0.00%       0.000us       0.000us      37.568ms         0.09%      37.568ms      24.700us          1521  \n",
      "void at::native::reduce_kernel<512, 1, at::native::R...         0.00%       0.000us         0.00%       0.000us       0.000us      15.691ms         0.04%      15.691ms      10.316us          1521  \n",
      "void at::native::vectorized_elementwise_kernel<4, at...         0.00%       0.000us         0.00%       0.000us       0.000us       6.306ms         0.01%       6.306ms       2.073us          3042  \n",
      "void at::native::reduce_kernel<512, 1, at::native::R...         0.00%       0.000us         0.00%       0.000us       0.000us      15.211ms         0.04%      15.211ms      10.001us          1521  \n",
      "void at::native::vectorized_elementwise_kernel<4, at...         0.00%       0.000us         0.00%       0.000us       0.000us       3.064ms         0.01%       3.064ms       2.014us          1521  \n",
      "                       Memcpy DtoH (Device -> Pageable)         0.00%       0.000us         0.00%       0.000us       0.000us       3.039ms         0.01%       3.039ms       0.999us          3042  \n",
      "void at::native::reduce_kernel<512, 1, at::native::R...         0.00%       0.000us         0.00%       0.000us       0.000us      12.722ms         0.03%      12.722ms       8.364us          1521  \n",
      "void at::native::vectorized_elementwise_kernel<4, at...         0.00%       0.000us         0.00%       0.000us       0.000us       3.093ms         0.01%       3.093ms       2.034us          1521  \n",
      "void at::native::unrolled_elementwise_kernel<at::nat...         0.00%       0.000us         0.00%       0.000us       0.000us       3.394ms         0.01%       3.394ms       2.231us          1521  \n",
      "void at::native::reduce_kernel<512, 1, at::native::R...         0.00%       0.000us         0.00%       0.000us       0.000us       5.366ms         0.01%       5.366ms       3.528us          1521  \n",
      "                                  cudaStreamIsCapturing         0.00%       0.000us         0.00%       0.000us       0.000us       0.000us         0.00%       0.000us       0.000us          1521  \n",
      "void at::native::(anonymous namespace)::distribution...         0.00%       0.000us         0.00%       0.000us       0.000us       6.396ms         0.02%       6.396ms       4.205us          1521  \n",
      "void at::native::vectorized_elementwise_kernel<4, at...         0.00%       0.000us         0.00%       0.000us       0.000us       4.236ms         0.01%       4.236ms       2.785us          1521  \n",
      "void at::native::reduce_kernel<512, 1, at::native::R...         0.00%       0.000us         0.00%       0.000us       0.000us      24.480ms         0.06%      24.480ms      16.095us          1521  \n",
      "void at::native::(anonymous namespace)::CatArrayBatc...         0.00%       0.000us         0.00%       0.000us       0.000us       4.629ms         0.01%       4.629ms       3.043us          1521  \n",
      "void cutlass::Kernel<cutlass_80_wmma_tensorop_f16_s1...         0.00%       0.000us         0.00%       0.000us       0.000us     865.000us         0.00%     865.000us       3.003us           288  \n",
      "void gemmSN_TN_kernel<float, 128, 16, 2, 4, 8, 9, fa...         0.00%       0.000us         0.00%       0.000us       0.000us       1.010ms         0.00%       1.010ms       3.507us           288  \n",
      "sm80_xmma_gemm_f16f16_f16f32_f32_tn_n_tilesize32x32x...         0.00%       0.000us         0.00%       0.000us       0.000us      10.412ms         0.02%      10.412ms      24.102us           432  \n",
      "void cutlass::Kernel<cutlass_80_wmma_tensorop_f16_s1...         0.00%       0.000us         0.00%       0.000us       0.000us     442.000us         0.00%     442.000us       3.069us           144  \n",
      "void gemmSN_TN_kernel<float, 128, 16, 2, 4, 10, 11, ...         0.00%       0.000us         0.00%       0.000us       0.000us     460.000us         0.00%     460.000us       3.194us           144  \n",
      "void (anonymous namespace)::softmax_warp_forward<flo...         0.00%       0.000us         0.00%       0.000us       0.000us       1.183ms         0.00%       1.183ms       2.054us           576  \n",
      "void cutlass::Kernel<cutlass_75_tensorop_f16_s1688ge...         0.00%       0.000us         0.00%       0.000us       0.000us      28.173ms         0.07%      28.173ms      10.033us          2808  \n",
      "void gemmSN_TN_kernel<float, 128, 16, 2, 4, 14, 15, ...         0.00%       0.000us         0.00%       0.000us       0.000us     575.000us         0.00%     575.000us       3.993us           144  \n",
      "                                   cudaFuncSetAttribute         0.02%       5.606ms         0.02%       5.606ms       0.050us       0.000us         0.00%       0.000us       0.000us        112989  \n",
      "void cutlass::Kernel<cutlass_80_tensorop_f16_s16816g...         0.00%       0.000us         0.00%       0.000us       0.000us       6.705ms         0.02%       6.705ms      93.125us            72  \n",
      "void at::native::(anonymous namespace)::indexSelectL...         0.00%       0.000us         0.00%       0.000us       0.000us      41.625ms         0.10%      41.625ms      14.015us          2970  \n",
      "ampere_fp16_s16816gemm_fp16_64x64_sliced1x2_ldg8_f2f...         0.00%       0.000us         0.00%       0.000us       0.000us     148.242ms         0.35%     148.242ms      26.396us          5616  \n",
      "                                ampere_sgemm_128x128_tn         0.00%       0.000us         0.00%       0.000us       0.000us        2.403s         5.71%        2.403s      67.424us         35640  \n",
      "void (anonymous namespace)::softmax_warp_forward<flo...         0.00%       0.000us         0.00%       0.000us       0.000us       2.333ms         0.01%       2.333ms       2.025us          1152  \n",
      "void cutlass::Kernel<cutlass_75_tensorop_f16_s1688ge...         0.00%       0.000us         0.00%       0.000us       0.000us     307.022ms         0.73%     307.022ms      36.137us          8496  \n",
      "ampere_fp16_s16816gemm_fp16_64x64_sliced1x2_ldg8_rel...         0.00%       0.000us         0.00%       0.000us       0.000us     418.779ms         0.99%     418.779ms      61.876us          6768  \n",
      "ampere_fp16_s16816gemm_fp16_64x64_ldg8_relu_f2f_stag...         0.00%       0.000us         0.00%       0.000us       0.000us     330.775ms         0.79%     330.775ms      95.710us          3456  \n",
      "void cutlass::Kernel<cutlass_75_wmma_tensorop_f16_s1...         0.00%       0.000us         0.00%       0.000us       0.000us       4.763ms         0.01%       4.763ms     529.222us             9  \n",
      "void cutlass::Kernel<cutlass_80_wmma_tensorop_f16_s1...         0.00%       0.000us         0.00%       0.000us       0.000us       2.984ms         0.01%       2.984ms       3.454us           864  \n",
      "void cutlass::Kernel<cutlass_80_wmma_tensorop_f16_s1...         0.00%       0.000us         0.00%       0.000us       0.000us     432.000us         0.00%     432.000us       3.000us           144  \n",
      "void (anonymous namespace)::softmax_warp_forward<flo...         0.00%       0.000us         0.00%       0.000us       0.000us       6.912ms         0.02%       6.912ms       3.000us          2304  \n",
      "void cutlass::Kernel<cutlass_75_tensorop_f16_s1688ge...         0.00%       0.000us         0.00%       0.000us       0.000us      66.541ms         0.16%      66.541ms     693.135us            96  \n",
      "ampere_fp16_s16816gemm_fp16_64x64_sliced1x2_ldg8_f2f...         0.00%       0.000us         0.00%       0.000us       0.000us     119.815ms         0.28%     119.815ms      26.414us          4536  \n",
      "void cutlass::Kernel<cutlass_80_wmma_tensorop_f16_s1...         0.00%       0.000us         0.00%       0.000us       0.000us      25.491ms         0.06%      25.491ms      11.064us          2304  \n",
      "void cutlass::Kernel<cutlass_80_wmma_tensorop_f16_s1...         0.00%       0.000us         0.00%       0.000us       0.000us       8.267ms         0.02%       8.267ms       5.468us          1512  \n",
      "void cutlass::Kernel<cutlass_75_wmma_tensorop_f16_s1...         0.00%       0.000us         0.00%       0.000us       0.000us       1.454ms         0.00%       1.454ms       5.049us           288  \n",
      "void cutlass::Kernel<cutlass_80_tensorop_f16_s16816g...         0.00%       0.000us         0.00%       0.000us       0.000us       4.235ms         0.01%       4.235ms      29.410us           144  \n",
      "void splitKreduce_kernel<32, 16, int, __half, __half...         0.00%       0.000us         0.00%       0.000us       0.000us     715.000us         0.00%     715.000us       4.965us           144  \n",
      "ampere_fp16_s16816gemm_fp16_128x128_ldg8_f2f_stages_...         0.00%       0.000us         0.00%       0.000us       0.000us     119.822ms         0.28%     119.822ms      30.818us          3888  \n",
      "void splitKreduce_kernel<32, 16, int, __half, __half...         0.00%       0.000us         0.00%       0.000us       0.000us     125.091ms         0.30%     125.091ms       7.425us         16848  \n",
      "void (anonymous namespace)::softmax_warp_forward<flo...         0.00%       0.000us         0.00%       0.000us       0.000us      20.018ms         0.05%      20.018ms       4.344us          4608  \n",
      "void cutlass::Kernel<cutlass_75_tensorop_f16_s1688ge...         0.00%       0.000us         0.00%       0.000us       0.000us      18.688ms         0.04%      18.688ms       8.111us          2304  \n",
      "                                        cudaMemsetAsync         1.26%     283.976ms         1.26%     283.976ms       6.919us       0.000us         0.00%       0.000us       0.000us         41040  \n",
      "                                        Memset (Device)         0.00%       0.000us         0.00%       0.000us       0.000us      39.218ms         0.09%      39.218ms       0.956us         41040  \n",
      "ampere_fp16_s16816gemm_fp16_128x64_ldg8_relu_f2f_sta...         0.00%       0.000us         0.00%       0.000us       0.000us     317.173ms         0.75%     317.173ms      68.831us          4608  \n",
      "void cutlass::Kernel<cutlass_80_tensorop_f16_s16816g...         0.00%       0.000us         0.00%       0.000us       0.000us     809.045ms         1.92%     809.045ms      52.755us         15336  \n",
      "void cutlass::Kernel<cutlass_75_tensorop_f16_s1688ge...         0.00%       0.000us         0.00%       0.000us       0.000us     237.638ms         0.56%     237.638ms     990.158us           240  \n",
      "      ampere_s16816gemm_fp16_128x64_ldg8_stages_32x6_tn         0.00%       0.000us         0.00%       0.000us       0.000us     242.734ms         0.58%     242.734ms      43.222us          5616  \n",
      "void splitKreduce_kernel<32, 16, int, float, __half,...         0.00%       0.000us         0.00%       0.000us       0.000us      40.772ms         0.10%      40.772ms       7.260us          5616  \n",
      "sm80_xmma_gemm_f16f16_f16f32_f32_tn_n_tilesize64x96x...         0.00%       0.000us         0.00%       0.000us       0.000us      17.780ms         0.04%      17.780ms      27.438us           648  \n",
      "void cutlass::Kernel<cutlass_80_tensorop_f16_s16816g...         0.00%       0.000us         0.00%       0.000us       0.000us     273.491ms         0.65%     273.491ms     105.514us          2592  \n",
      "void cutlass::Kernel<cutlass_80_tensorop_f16_s16816g...         0.00%       0.000us         0.00%       0.000us       0.000us        7.915s        18.80%        7.915s     167.326us         47304  \n",
      "void cutlass::Kernel<cutlass_80_tensorop_f16_s16816g...         0.00%       0.000us         0.00%       0.000us       0.000us       7.778ms         0.02%       7.778ms      12.003us           648  \n",
      "ampere_fp16_s16816gemm_fp16_128x64_ldg8_f2f_stages_3...         0.00%       0.000us         0.00%       0.000us       0.000us     576.587ms         1.37%     576.587ms      31.405us         18360  \n",
      "void (anonymous namespace)::softmax_warp_forward<flo...         0.00%       0.000us         0.00%       0.000us       0.000us     105.765ms         0.25%     105.765ms      11.476us          9216  \n",
      "ampere_fp16_s16816gemm_fp16_128x64_ldg8_relu_f2f_sta...         0.00%       0.000us         0.00%       0.000us       0.000us     642.066ms         1.53%     642.066ms      65.570us          9792  \n",
      "void cutlass::Kernel<cutlass_80_tensorop_f16_s16816g...         0.00%       0.000us         0.00%       0.000us       0.000us     412.826ms         0.98%     412.826ms     119.452us          3456  \n",
      "void cutlass::Kernel<cutlass_75_tensorop_f16_s1688ge...         0.00%       0.000us         0.00%       0.000us       0.000us        1.775s         4.22%        1.775s       2.476ms           717  \n",
      "void cutlass::Kernel<cutlass_80_tensorop_f16_s16816g...         0.00%       0.000us         0.00%       0.000us       0.000us       1.152ms         0.00%       1.152ms       8.000us           144  \n",
      "void cutlass::Kernel<cutlass_80_tensorop_f16_s16816g...         0.00%       0.000us         0.00%       0.000us       0.000us      42.397ms         0.10%      42.397ms      16.357us          2592  \n",
      "void cutlass::Kernel<cutlass_75_tensorop_f16_s1688ge...         0.00%       0.000us         0.00%       0.000us       0.000us     111.963ms         0.27%     111.963ms      26.357us          4248  \n",
      "void cutlass::Kernel<cutlass_80_tensorop_f16_s16816g...         0.00%       0.000us         0.00%       0.000us       0.000us     255.535ms         0.61%     255.535ms      33.482us          7632  \n",
      "ampere_fp16_s16816gemm_fp16_128x128_ldg8_f2f_stages_...         0.00%       0.000us         0.00%       0.000us       0.000us        1.473s         3.50%        1.473s      53.279us         27648  \n",
      "void (anonymous namespace)::softmax_warp_forward<flo...         0.00%       0.000us         0.00%       0.000us       0.000us     976.679ms         2.32%     976.679ms      53.196us         18360  \n",
      "void cutlass::Kernel<cutlass_75_tensorop_f16_s1688ge...         0.00%       0.000us         0.00%       0.000us       0.000us     958.696ms         2.28%     958.696ms       2.497ms           384  \n",
      "-------------------------------------------------------  ------------  ------------  ------------  ------------  ------------  ------------  ------------  ------------  ------------  ------------  \n",
      "Self CPU time total: 22.496s\n",
      "Self CUDA time total: 42.095s\n",
      "\n"
     ]
    }
   ],
   "source": [
    "p = profile_model(DefaultModel(large_model, 512), {'text_prompt': text_prompt}, ProfilerConfig(amp=False))\n",
    "print(p.key_averages())"
   ]
  },
  {
   "cell_type": "markdown",
   "metadata": {},
   "source": [
    "Так как все вычисления производились на GPU, то нас интересует именно последняя строчка выхода профайлера, у обычного метода заняло 42 секунды на работу"
   ]
  },
  {
   "cell_type": "markdown",
   "metadata": {},
   "source": [
    "Теперь попробуем speculative sampling для K=16"
   ]
  },
  {
   "cell_type": "code",
   "execution_count": 53,
   "metadata": {},
   "outputs": [
    {
     "name": "stderr",
     "output_type": "stream",
     "text": [
      "STAGE:2024-05-03 10:00:06 1597137:1597137 ActivityProfilerController.cpp:311] Completed Stage: Warm Up\n",
      "STAGE:2024-05-03 10:01:21 1597137:1597137 ActivityProfilerController.cpp:317] Completed Stage: Collection\n",
      "STAGE:2024-05-03 10:01:24 1597137:1597137 ActivityProfilerController.cpp:321] Completed Stage: Post Processing\n"
     ]
    },
    {
     "name": "stdout",
     "output_type": "stream",
     "text": [
      "-------------------------------------------------------  ------------  ------------  ------------  ------------  ------------  ------------  ------------  ------------  ------------  ------------  \n",
      "                                                   Name    Self CPU %      Self CPU   CPU total %     CPU total  CPU time avg     Self CUDA   Self CUDA %    CUDA total  CUDA time avg    # of Calls  \n",
      "-------------------------------------------------------  ------------  ------------  ------------  ------------  ------------  ------------  ------------  ------------  ------------  ------------  \n",
      "                                       cudaLaunchKernel        60.17%       14.365s        60.17%       14.365s       7.923us       0.000us         0.00%       0.000us       0.000us       1813069  \n",
      "void at::native::vectorized_elementwise_kernel<4, at...         0.00%       0.000us         0.00%       0.000us       0.000us       8.035ms         0.03%       8.035ms       2.013us          3991  \n",
      "void at::native::reduce_kernel<512, 1, at::native::R...         0.00%       0.000us         0.00%       0.000us       0.000us     476.000us         0.00%     476.000us       3.967us           120  \n",
      "                                        cudaMemcpyAsync        32.92%        7.860s        32.92%        7.860s      79.160us       0.000us         0.00%       0.000us       0.000us         99292  \n",
      "                       Memcpy DtoH (Device -> Pageable)         0.00%       0.000us         0.00%       0.000us       0.000us      35.135ms         0.11%      35.135ms       1.002us         35066  \n",
      "                                  cudaStreamSynchronize         5.17%        1.235s         5.17%        1.235s      14.294us       0.000us         0.00%       0.000us       0.000us         86426  \n",
      "void at::native::vectorized_elementwise_kernel<4, at...         0.00%       0.000us         0.00%       0.000us       0.000us      25.860ms         0.08%      25.860ms       1.633us         15840  \n",
      "void at::native::unrolled_elementwise_kernel<at::nat...         0.00%       0.000us         0.00%       0.000us       0.000us       4.393ms         0.01%       4.393ms       2.034us          2160  \n",
      "void at::native::reduce_kernel<512, 1, at::native::R...         0.00%       0.000us         0.00%       0.000us       0.000us       6.664ms         0.02%       6.664ms       3.085us          2160  \n",
      "void at::native::vectorized_elementwise_kernel<4, at...         0.00%       0.000us         0.00%       0.000us       0.000us     720.000us         0.00%     720.000us       2.000us           360  \n",
      "                                    cudaPeekAtLastError         0.01%       2.664ms         0.01%       2.664ms       0.034us       0.000us         0.00%       0.000us       0.000us         77752  \n",
      "void at_cuda_detail::cub::DeviceScanInitKernel<at_cu...         0.00%       0.000us         0.00%       0.000us       0.000us      25.615ms         0.08%      25.615ms       1.642us         15600  \n",
      "cudaOccupancyMaxActiveBlocksPerMultiprocessorWithFla...         1.18%     281.935ms         1.18%     281.935ms       0.451us       0.000us         0.00%       0.000us       0.000us        625030  \n",
      "                                 cudaDeviceGetAttribute         0.00%     253.000us         0.00%     253.000us       0.013us       0.000us         0.00%       0.000us       0.000us         19440  \n",
      "void at_cuda_detail::cub::DeviceScanKernel<at_cuda_d...         0.00%       0.000us         0.00%       0.000us       0.000us      40.395ms         0.13%      40.395ms       2.589us         15600  \n",
      "                         Memcpy DtoD (Device -> Device)         0.00%       0.000us         0.00%       0.000us       0.000us      34.806ms         0.11%      34.806ms       2.705us         12866  \n",
      "void compute_cuda_kernel<long>(long*, long*, long*, ...         0.00%       0.000us         0.00%       0.000us       0.000us      28.388ms         0.09%      28.388ms       2.075us         13680  \n",
      "void at::native::(anonymous namespace)::indexSelectS...         0.00%       0.000us         0.00%       0.000us       0.000us     705.000us         0.00%     705.000us       2.938us           240  \n",
      "void (anonymous namespace)::elementwise_kernel_with_...         0.00%       0.000us         0.00%       0.000us       0.000us     660.000us         0.00%     660.000us       1.833us           360  \n",
      "void at::native::vectorized_elementwise_kernel<4, at...         0.00%       0.000us         0.00%       0.000us       0.000us       7.798ms         0.02%       7.798ms       2.014us          3871  \n",
      "void at::native::vectorized_elementwise_kernel<4, at...         0.00%       0.000us         0.00%       0.000us       0.000us       4.025ms         0.01%       4.025ms       2.096us          1920  \n",
      "void at::native::(anonymous namespace)::indexSelectS...         0.00%       0.000us         0.00%       0.000us       0.000us       9.803ms         0.03%       9.803ms       2.713us          3614  \n",
      "void at::native::vectorized_elementwise_kernel<4, at...         0.00%       0.000us         0.00%       0.000us       0.000us     740.940ms         2.37%     740.940ms       4.932us        150240  \n",
      "void at::native::vectorized_elementwise_kernel<4, at...         0.00%       0.000us         0.00%       0.000us       0.000us     264.000us         0.00%     264.000us       2.200us           120  \n",
      "void at::native::elementwise_kernel<128, 4, at::nati...         0.00%       0.000us         0.00%       0.000us       0.000us     456.000us         0.00%     456.000us       3.800us           120  \n",
      "void at::native::vectorized_elementwise_kernel<4, at...         0.00%       0.000us         0.00%       0.000us       0.000us     304.000us         0.00%     304.000us       2.533us           120  \n",
      "void at::native::unrolled_elementwise_kernel<at::nat...         0.00%       0.000us         0.00%       0.000us       0.000us     347.522ms         1.11%     347.522ms       6.351us         54720  \n",
      "void at::native::elementwise_kernel<128, 4, at::nati...         0.00%       0.000us         0.00%       0.000us       0.000us     541.000us         0.00%     541.000us       4.508us           120  \n",
      "void at::native::vectorized_elementwise_kernel<4, at...         0.00%       0.000us         0.00%       0.000us       0.000us       3.908ms         0.01%       3.908ms       2.035us          1920  \n",
      "void at::native::unrolled_elementwise_kernel<at::nat...         0.00%       0.000us         0.00%       0.000us       0.000us       5.513ms         0.02%       5.513ms       2.702us          2040  \n",
      "void at::native::vectorized_elementwise_kernel<4, at...         0.00%       0.000us         0.00%       0.000us       0.000us       8.106ms         0.03%       8.106ms       2.047us          3960  \n",
      "void at::native::(anonymous namespace)::vectorized_l...         0.00%       0.000us         0.00%       0.000us       0.000us     561.856ms         1.79%     561.856ms       5.759us         97560  \n",
      "ampere_fp16_s16816gemm_fp16_64x64_ldg8_f2f_stages_64...         0.00%       0.000us         0.00%       0.000us       0.000us      10.978ms         0.04%      10.978ms      25.412us           432  \n",
      "void at::native::unrolled_elementwise_kernel<at::nat...         0.00%       0.000us         0.00%       0.000us       0.000us     657.450ms         2.10%     657.450ms       7.125us         92280  \n",
      "void gemmSN_TN_kernel<float, 128, 16, 2, 4, 6, 7, fa...         0.00%       0.000us         0.00%       0.000us       0.000us     269.000us         0.00%     269.000us       3.736us            72  \n",
      "                       Memcpy HtoD (Pageable -> Device)         0.00%       0.000us         0.00%       0.000us       0.000us      37.239ms         0.12%      37.239ms       0.725us         51360  \n",
      "void at::native::elementwise_kernel<128, 2, at::nati...         0.00%       0.000us         0.00%       0.000us       0.000us     290.013ms         0.93%     290.013ms       5.866us         49440  \n",
      "void at::native::elementwise_kernel<128, 4, at::nati...         0.00%       0.000us         0.00%       0.000us       0.000us     270.492ms         0.86%     270.492ms       5.870us         46080  \n",
      "void (anonymous namespace)::softmax_warp_forward<flo...         0.00%       0.000us         0.00%       0.000us       0.000us     683.000us         0.00%     683.000us       2.189us           312  \n",
      "                       ampere_fp16_sgemm_fp16_128x32_nn         0.00%       0.000us         0.00%       0.000us       0.000us     337.000us         0.00%     337.000us       4.681us            72  \n",
      "void at::native::elementwise_kernel<128, 4, at::nati...         0.00%       0.000us         0.00%       0.000us       0.000us     109.223ms         0.35%     109.223ms       5.550us         19680  \n",
      "ampere_fp16_s16816gemm_fp16_64x64_sliced1x2_ldg8_rel...         0.00%       0.000us         0.00%       0.000us       0.000us      19.781ms         0.06%      19.781ms      58.872us           336  \n",
      "void cutlass::Kernel<cutlass_80_wmma_tensorop_f16_s1...         0.00%       0.000us         0.00%       0.000us       0.000us        3.133s        10.00%        3.133s      24.140us        129768  \n",
      "void at::native::vectorized_elementwise_kernel<4, at...         0.00%       0.000us         0.00%       0.000us       0.000us     910.436ms         2.91%     910.436ms       6.138us        148320  \n",
      "void at::native::vectorized_elementwise_kernel<4, at...         0.00%       0.000us         0.00%       0.000us       0.000us     312.233ms         1.00%     312.233ms       6.315us         49440  \n",
      "void at::native::vectorized_elementwise_kernel<4, at...         0.00%       0.000us         0.00%       0.000us       0.000us     310.630ms         0.99%     310.630ms       6.283us         49440  \n",
      "void at::native::vectorized_elementwise_kernel<4, at...         0.00%       0.000us         0.00%       0.000us       0.000us     307.997ms         0.98%     307.997ms       6.230us         49440  \n",
      "void at::native::vectorized_elementwise_kernel<4, at...         0.00%       0.000us         0.00%       0.000us       0.000us     417.943ms         1.33%     417.943ms       8.454us         49440  \n",
      "void cutlass::Kernel<cutlass_75_wmma_tensorop_f16_s1...         0.00%       0.000us         0.00%       0.000us       0.000us       5.259ms         0.02%       5.259ms     525.900us            10  \n",
      "                                        cudaMemsetAsync         0.53%     127.036ms         0.53%     127.036ms       6.483us       0.000us         0.00%       0.000us       0.000us         19595  \n",
      "                                        Memset (Device)         0.00%       0.000us         0.00%       0.000us       0.000us      18.955ms         0.06%      18.955ms       0.967us         19595  \n",
      "void at::native::mbtopk::fill<unsigned int, unsigned...         0.00%       0.000us         0.00%       0.000us       0.000us       3.869ms         0.01%       3.869ms       2.015us          1920  \n",
      "void at::native::mbtopk::radixFindKthValues<c10::Hal...         0.00%       0.000us         0.00%       0.000us       0.000us      21.320ms         0.07%      21.320ms       5.552us          3840  \n",
      "void at::native::mbtopk::computeBlockwiseWithinKCoun...         0.00%       0.000us         0.00%       0.000us       0.000us       8.136ms         0.03%       8.136ms       2.119us          3840  \n",
      "void at::native::mbtopk::computeBlockwiseKthCounts<u...         0.00%       0.000us         0.00%       0.000us       0.000us       3.867ms         0.01%       3.867ms       2.014us          1920  \n",
      "void at_cuda_detail::cub::DeviceScanInitKernel<at_cu...         0.00%       0.000us         0.00%       0.000us       0.000us       4.573ms         0.01%       4.573ms       1.191us          3840  \n",
      "void at_cuda_detail::cub::DeviceScanByKeyKernel<at_c...         0.00%       0.000us         0.00%       0.000us       0.000us      12.295ms         0.04%      12.295ms       3.202us          3840  \n",
      "void at::native::mbtopk::gatherTopK<c10::Half, unsig...         0.00%       0.000us         0.00%       0.000us       0.000us      10.580ms         0.03%      10.580ms       5.510us          1920  \n",
      "void at::native::radixSortKVInPlace<-2, -1, 32, 4, c...         0.00%       0.000us         0.00%       0.000us       0.000us       9.724ms         0.03%       9.724ms       5.065us          1920  \n",
      "void at::native::elementwise_kernel<128, 4, at::nati...         0.00%       0.000us         0.00%       0.000us       0.000us       5.835ms         0.02%       5.835ms       3.039us          1920  \n",
      "void at::native::(anonymous namespace)::cunn_SoftMax...         0.00%       0.000us         0.00%       0.000us       0.000us      65.206ms         0.21%      65.206ms      31.964us          2040  \n",
      "void at::native::reduce_kernel<512, 1, at::native::R...         0.00%       0.000us         0.00%       0.000us       0.000us      17.498ms         0.06%      17.498ms       9.114us          1920  \n",
      "void at::native::vectorized_elementwise_kernel<4, at...         0.00%       0.000us         0.00%       0.000us       0.000us       7.735ms         0.02%       7.735ms       2.014us          3840  \n",
      "void at::native::reduce_kernel<512, 1, at::native::R...         0.00%       0.000us         0.00%       0.000us       0.000us      17.029ms         0.05%      17.029ms       8.869us          1920  \n",
      "void at::native::vectorized_elementwise_kernel<4, at...         0.00%       0.000us         0.00%       0.000us       0.000us       4.141ms         0.01%       4.141ms       2.030us          2040  \n",
      "void at::native::reduce_kernel<512, 1, at::native::R...         0.00%       0.000us         0.00%       0.000us       0.000us      13.880ms         0.04%      13.880ms       7.229us          1920  \n",
      "void at::native::vectorized_elementwise_kernel<4, at...         0.00%       0.000us         0.00%       0.000us       0.000us       3.864ms         0.01%       3.864ms       2.013us          1920  \n",
      "                                  cudaStreamIsCapturing         0.01%       2.465ms         0.01%       2.465ms       0.703us       0.000us         0.00%       0.000us       0.000us          3506  \n",
      "void at::native::(anonymous namespace)::distribution...         0.00%       0.000us         0.00%       0.000us       0.000us       7.630ms         0.02%       7.630ms       3.974us          1920  \n",
      "void at::native::vectorized_elementwise_kernel<4, at...         0.00%       0.000us         0.00%       0.000us       0.000us       4.167ms         0.01%       4.167ms       2.170us          1920  \n",
      "void at::native::reduce_kernel<512, 1, at::native::R...         0.00%       0.000us         0.00%       0.000us       0.000us      27.264ms         0.09%      27.264ms      14.200us          1920  \n",
      "void at::native::vectorized_elementwise_kernel<4, at...         0.00%       0.000us         0.00%       0.000us       0.000us       3.880ms         0.01%       3.880ms       2.021us          1920  \n",
      "void at::native::vectorized_elementwise_kernel<4, at...         0.00%       0.000us         0.00%       0.000us       0.000us       3.877ms         0.01%       3.877ms       2.019us          1920  \n",
      "void at::native::vectorized_elementwise_kernel<4, at...         0.00%       0.000us         0.00%       0.000us       0.000us       3.849ms         0.01%       3.849ms       2.005us          1920  \n",
      "void at::native::vectorized_elementwise_kernel<4, at...         0.00%       0.000us         0.00%       0.000us       0.000us       3.893ms         0.01%       3.893ms       2.028us          1920  \n",
      "void at::native::(anonymous namespace)::CatArrayBatc...         0.00%       0.000us         0.00%       0.000us       0.000us      10.158ms         0.03%      10.158ms       2.565us          3960  \n",
      "void at::native::vectorized_elementwise_kernel<4, at...         0.00%       0.000us         0.00%       0.000us       0.000us       6.723ms         0.02%       6.723ms       1.167us          5760  \n",
      "void at::native::vectorized_elementwise_kernel<4, at...         0.00%       0.000us         0.00%       0.000us       0.000us       7.728ms         0.02%       7.728ms       2.013us          3840  \n",
      "void at::native::unrolled_elementwise_kernel<at::nat...         0.00%       0.000us         0.00%       0.000us       0.000us       1.920ms         0.01%       1.920ms       2.000us           960  \n",
      "void at::native::vectorized_elementwise_kernel<4, at...         0.00%       0.000us         0.00%       0.000us       0.000us       3.859ms         0.01%       3.859ms       2.010us          1920  \n",
      "void at::native::unrolled_elementwise_kernel<at::nat...         0.00%       0.000us         0.00%       0.000us       0.000us       3.940ms         0.01%       3.940ms       2.052us          1920  \n",
      "void at::native::reduce_kernel<512, 1, at::native::R...         0.00%       0.000us         0.00%       0.000us       0.000us       5.867ms         0.02%       5.867ms       3.056us          1920  \n",
      "void splitKreduce_kernel<32, 16, int, __half, __half...         0.00%       0.000us         0.00%       0.000us       0.000us     359.455ms         1.15%     359.455ms       2.735us        131416  \n",
      "void at::native::(anonymous namespace)::CatArrayBatc...         0.00%       0.000us         0.00%       0.000us       0.000us      74.959ms         0.24%      74.959ms      13.014us          5760  \n",
      "std::enable_if<!(false), void>::type internal::gemvx...         0.00%       0.000us         0.00%       0.000us       0.000us     237.794ms         0.76%     237.794ms       5.504us         43200  \n",
      "std::enable_if<!(false), void>::type internal::gemvx...         0.00%       0.000us         0.00%       0.000us       0.000us      28.922ms         0.09%      28.922ms       3.082us          9384  \n",
      "void gemv2T_kernel_val<int, int, __half, __half, __h...         0.00%       0.000us         0.00%       0.000us       0.000us        4.978s        15.90%        4.978s      57.621us         86400  \n",
      "std::enable_if<!(false), void>::type internal::gemvx...         0.00%       0.000us         0.00%       0.000us       0.000us        3.716s        11.86%        3.716s      86.007us         43200  \n",
      "void gemv2T_kernel_val<int, int, __half, __half, __h...         0.00%       0.000us         0.00%       0.000us       0.000us     920.046ms         2.94%     920.046ms     511.137us          1800  \n",
      "void at::native::vectorized_elementwise_kernel<2, at...         0.00%       0.000us         0.00%       0.000us       0.000us     968.000us         0.00%     968.000us       2.017us           480  \n",
      "void at::native::(anonymous namespace)::CatArrayBatc...         0.00%       0.000us         0.00%       0.000us       0.000us     636.047ms         2.03%     636.047ms       7.887us         80640  \n",
      "void gemv2N_kernel<int, int, __half, __half, __half,...         0.00%       0.000us         0.00%       0.000us       0.000us     158.000us         0.00%     158.000us       2.194us            72  \n",
      "void at::native::vectorized_elementwise_kernel<4, at...         0.00%       0.000us         0.00%       0.000us       0.000us     970.000us         0.00%     970.000us       2.021us           480  \n",
      "void (anonymous namespace)::softmax_warp_forward<flo...         0.00%       0.000us         0.00%       0.000us       0.000us       2.465ms         0.01%       2.465ms       2.014us          1224  \n",
      "void (anonymous namespace)::softmax_warp_forward<flo...         0.00%       0.000us         0.00%       0.000us       0.000us       3.478ms         0.01%       3.478ms       2.008us          1732  \n",
      "void cutlass::Kernel<cutlass_80_wmma_tensorop_f16_s1...         0.00%       0.000us         0.00%       0.000us       0.000us       1.936ms         0.01%       1.936ms       3.293us           588  \n",
      "void at::native::(anonymous namespace)::CatArrayBatc...         0.00%       0.000us         0.00%       0.000us       0.000us       1.437ms         0.00%       1.437ms      11.975us           120  \n",
      "void at::native::(anonymous namespace)::indexSelectL...         0.00%       0.000us         0.00%       0.000us       0.000us       5.756ms         0.02%       5.756ms      16.636us           346  \n",
      "ampere_fp16_s16816gemm_fp16_128x64_ldg8_f2f_stages_6...         0.00%       0.000us         0.00%       0.000us       0.000us     107.507ms         0.34%     107.507ms      95.988us          1120  \n",
      "void at::native::elementwise_kernel<128, 2, at::nati...         0.00%       0.000us         0.00%       0.000us       0.000us      66.227ms         0.21%      66.227ms       2.190us         30240  \n",
      "-------------------------------------------------------  ------------  ------------  ------------  ------------  ------------  ------------  ------------  ------------  ------------  ------------  \n",
      "Self CPU time total: 23.875s\n",
      "Self CUDA time total: 31.320s\n",
      "\n"
     ]
    }
   ],
   "source": [
    "p = profile_model(SpsModel(model, large_model, 512), {'text_prompt': inputs, 'K':16}, ProfilerConfig(amp=False))\n",
    "print(p.key_averages())"
   ]
  },
  {
   "cell_type": "markdown",
   "metadata": {},
   "source": [
    "Получили большой прирост в скорости, более чем на 10 секунд, получили ускорение на 25%"
   ]
  },
  {
   "cell_type": "markdown",
   "metadata": {},
   "source": [
    "Теперь возьмем K=32"
   ]
  },
  {
   "cell_type": "code",
   "execution_count": 54,
   "metadata": {},
   "outputs": [
    {
     "name": "stderr",
     "output_type": "stream",
     "text": [
      "STAGE:2024-05-03 10:06:58 1597137:1597137 ActivityProfilerController.cpp:311] Completed Stage: Warm Up\n",
      "STAGE:2024-05-03 10:08:39 1597137:1597137 ActivityProfilerController.cpp:317] Completed Stage: Collection\n",
      "STAGE:2024-05-03 10:08:42 1597137:1597137 ActivityProfilerController.cpp:321] Completed Stage: Post Processing\n"
     ]
    },
    {
     "name": "stdout",
     "output_type": "stream",
     "text": [
      "-------------------------------------------------------  ------------  ------------  ------------  ------------  ------------  ------------  ------------  ------------  ------------  ------------  \n",
      "                                                   Name    Self CPU %      Self CPU   CPU total %     CPU total  CPU time avg     Self CUDA   Self CUDA %    CUDA total  CUDA time avg    # of Calls  \n",
      "-------------------------------------------------------  ------------  ------------  ------------  ------------  ------------  ------------  ------------  ------------  ------------  ------------  \n",
      "                                       cudaLaunchKernel        69.14%       19.911s        69.14%       19.911s       7.819us       0.000us         0.00%       0.000us       0.000us       2546654  \n",
      "void at::native::vectorized_elementwise_kernel<4, at...         0.00%       0.000us         0.00%       0.000us       0.000us      11.938ms         0.03%      11.938ms       2.007us          5949  \n",
      "void at::native::reduce_kernel<512, 1, at::native::R...         0.00%       0.000us         0.00%       0.000us       0.000us     369.000us         0.00%     369.000us       4.055us            91  \n",
      "                                        cudaMemcpyAsync        23.19%        6.679s        23.19%        6.679s      54.438us       0.000us         0.00%       0.000us       0.000us        122689  \n",
      "                       Memcpy DtoH (Device -> Pageable)         0.00%       0.000us         0.00%       0.000us       0.000us      31.432ms         0.08%      31.432ms       1.002us         31360  \n",
      "                                  cudaStreamSynchronize         3.74%        1.077s         3.74%        1.077s      10.090us       0.000us         0.00%       0.000us       0.000us        106708  \n",
      "void at::native::vectorized_elementwise_kernel<4, at...         0.00%       0.000us         0.00%       0.000us       0.000us      22.682ms         0.06%      22.682ms       1.684us         13468  \n",
      "void at::native::unrolled_elementwise_kernel<at::nat...         0.00%       0.000us         0.00%       0.000us       0.000us       6.264ms         0.02%       6.264ms       2.025us          3094  \n",
      "void at::native::reduce_kernel<512, 1, at::native::R...         0.00%       0.000us         0.00%       0.000us       0.000us       9.446ms         0.03%       9.446ms       3.053us          3094  \n",
      "void at::native::vectorized_elementwise_kernel<4, at...         0.00%       0.000us         0.00%       0.000us       0.000us     546.000us         0.00%     546.000us       2.000us           273  \n",
      "void at_cuda_detail::cub::DeviceScanInitKernel<at_cu...         0.00%       0.000us         0.00%       0.000us       0.000us      22.591ms         0.06%      22.591ms       1.700us         13286  \n",
      "                                    cudaPeekAtLastError         0.00%     158.000us         0.00%     158.000us       0.002us       0.000us         0.00%       0.000us       0.000us         76433  \n",
      "cudaOccupancyMaxActiveBlocksPerMultiprocessorWithFla...         1.31%     376.491ms         1.31%     376.491ms       0.434us       0.000us         0.00%       0.000us       0.000us        867751  \n",
      "                                 cudaDeviceGetAttribute         0.00%     178.000us         0.00%     178.000us       0.009us       0.000us         0.00%       0.000us       0.000us         19110  \n",
      "void at_cuda_detail::cub::DeviceScanKernel<at_cuda_d...         0.00%       0.000us         0.00%       0.000us       0.000us      35.022ms         0.09%      35.022ms       2.636us         13286  \n",
      "                         Memcpy DtoD (Device -> Device)         0.00%       0.000us         0.00%       0.000us       0.000us      38.695ms         0.10%      38.695ms       2.421us         15981  \n",
      "void compute_cuda_kernel<long>(long*, long*, long*, ...         0.00%       0.000us         0.00%       0.000us       0.000us      21.754ms         0.06%      21.754ms       2.097us         10374  \n",
      "void at::native::(anonymous namespace)::indexSelectS...         0.00%       0.000us         0.00%       0.000us       0.000us     552.000us         0.00%     552.000us       3.033us           182  \n",
      "void (anonymous namespace)::elementwise_kernel_with_...         0.00%       0.000us         0.00%       0.000us       0.000us     542.000us         0.00%     542.000us       1.985us           273  \n",
      "void at::native::vectorized_elementwise_kernel<4, at...         0.00%       0.000us         0.00%       0.000us       0.000us      11.802ms         0.03%      11.802ms       2.015us          5858  \n",
      "void at::native::vectorized_elementwise_kernel<4, at...         0.00%       0.000us         0.00%       0.000us       0.000us       5.955ms         0.02%       5.955ms       2.045us          2912  \n",
      "void at::native::(anonymous namespace)::indexSelectS...         0.00%       0.000us         0.00%       0.000us       0.000us      15.552ms         0.04%      15.552ms       2.749us          5658  \n",
      "void at::native::vectorized_elementwise_kernel<4, at...         0.00%       0.000us         0.00%       0.000us       0.000us     752.759ms         2.03%     752.759ms       3.418us        220220  \n",
      "void at::native::vectorized_elementwise_kernel<4, at...         0.00%       0.000us         0.00%       0.000us       0.000us     193.000us         0.00%     193.000us       2.121us            91  \n",
      "void at::native::elementwise_kernel<128, 4, at::nati...         0.00%       0.000us         0.00%       0.000us       0.000us     328.000us         0.00%     328.000us       3.604us            91  \n",
      "void at::native::vectorized_elementwise_kernel<4, at...         0.00%       0.000us         0.00%       0.000us       0.000us     225.000us         0.00%     225.000us       2.473us            91  \n",
      "void at::native::unrolled_elementwise_kernel<at::nat...         0.00%       0.000us         0.00%       0.000us       0.000us     359.424ms         0.97%     359.424ms       4.614us         77896  \n",
      "void at::native::elementwise_kernel<128, 4, at::nati...         0.00%       0.000us         0.00%       0.000us       0.000us     405.000us         0.00%     405.000us       4.451us            91  \n",
      "void at::native::vectorized_elementwise_kernel<4, at...         0.00%       0.000us         0.00%       0.000us       0.000us       5.852ms         0.02%       5.852ms       2.010us          2912  \n",
      "void at::native::unrolled_elementwise_kernel<at::nat...         0.00%       0.000us         0.00%       0.000us       0.000us       7.646ms         0.02%       7.646ms       2.546us          3003  \n",
      "void at::native::vectorized_elementwise_kernel<4, at...         0.00%       0.000us         0.00%       0.000us       0.000us      12.018ms         0.03%      12.018ms       2.032us          5915  \n",
      "void at::native::(anonymous namespace)::vectorized_l...         0.00%       0.000us         0.00%       0.000us       0.000us     804.930ms         2.17%     804.930ms       5.539us        145327  \n",
      "ampere_fp16_s16816gemm_fp16_64x64_ldg8_f2f_stages_64...         0.00%       0.000us         0.00%       0.000us       0.000us      22.330ms         0.06%      22.330ms      41.048us           544  \n",
      "void at::native::unrolled_elementwise_kernel<at::nat...         0.00%       0.000us         0.00%       0.000us       0.000us     904.366ms         2.43%     904.366ms       6.466us        139867  \n",
      "void gemmSN_TN_kernel<float, 128, 16, 2, 4, 6, 7, fa...         0.00%       0.000us         0.00%       0.000us       0.000us     248.000us         0.00%     248.000us       3.444us            72  \n",
      "                       Memcpy HtoD (Pageable -> Device)         0.00%       0.000us         0.00%       0.000us       0.000us      57.717ms         0.16%      57.717ms       0.766us         75348  \n",
      "void at::native::elementwise_kernel<128, 2, at::nati...         0.00%       0.000us         0.00%       0.000us       0.000us     315.677ms         0.85%     315.677ms       4.358us         72436  \n",
      "void at::native::elementwise_kernel<128, 4, at::nati...         0.00%       0.000us         0.00%       0.000us       0.000us     340.499ms         0.92%     340.499ms       4.872us         69888  \n",
      "void (anonymous namespace)::softmax_warp_forward<flo...         0.00%       0.000us         0.00%       0.000us       0.000us     705.000us         0.00%     705.000us       2.098us           336  \n",
      "                       ampere_fp16_sgemm_fp16_128x32_nn         0.00%       0.000us         0.00%       0.000us       0.000us     318.000us         0.00%     318.000us       4.417us            72  \n",
      "void at::native::elementwise_kernel<128, 4, at::nati...         0.00%       0.000us         0.00%       0.000us       0.000us      80.437ms         0.22%      80.437ms       5.390us         14924  \n",
      "ampere_fp16_s16816gemm_fp16_64x64_sliced1x2_ldg8_rel...         0.00%       0.000us         0.00%       0.000us       0.000us      22.559ms         0.06%      22.559ms      58.747us           384  \n",
      "void cutlass::Kernel<cutlass_80_wmma_tensorop_f16_s1...         0.00%       0.000us         0.00%       0.000us       0.000us        4.901s        13.19%        4.901s      24.109us        203304  \n",
      "void at::native::vectorized_elementwise_kernel<4, at...         0.00%       0.000us         0.00%       0.000us       0.000us     874.680ms         2.35%     874.680ms       4.025us        217308  \n",
      "void at::native::vectorized_elementwise_kernel<4, at...         0.00%       0.000us         0.00%       0.000us       0.000us     295.944ms         0.80%     295.944ms       4.086us         72436  \n",
      "void at::native::vectorized_elementwise_kernel<4, at...         0.00%       0.000us         0.00%       0.000us       0.000us     294.173ms         0.79%     294.173ms       4.061us         72436  \n",
      "void at::native::vectorized_elementwise_kernel<4, at...         0.00%       0.000us         0.00%       0.000us       0.000us     291.613ms         0.78%     291.613ms       4.026us         72436  \n",
      "void at::native::vectorized_elementwise_kernel<4, at...         0.00%       0.000us         0.00%       0.000us       0.000us     370.361ms         1.00%     370.361ms       5.113us         72436  \n",
      "void cutlass::Kernel<cutlass_75_wmma_tensorop_f16_s1...         0.00%       0.000us         0.00%       0.000us       0.000us       6.840ms         0.02%       6.840ms     526.154us            13  \n",
      "                                        cudaMemsetAsync         0.40%     115.198ms         0.40%     115.198ms       6.380us       0.000us         0.00%       0.000us       0.000us         18056  \n",
      "                                        Memset (Device)         0.00%       0.000us         0.00%       0.000us       0.000us      17.376ms         0.05%      17.376ms       0.962us         18056  \n",
      "void at::native::mbtopk::fill<unsigned int, unsigned...         0.00%       0.000us         0.00%       0.000us       0.000us       5.947ms         0.02%       5.947ms       2.042us          2912  \n",
      "void at::native::mbtopk::radixFindKthValues<c10::Hal...         0.00%       0.000us         0.00%       0.000us       0.000us      32.241ms         0.09%      32.241ms       5.536us          5824  \n",
      "void at::native::mbtopk::computeBlockwiseWithinKCoun...         0.00%       0.000us         0.00%       0.000us       0.000us      12.270ms         0.03%      12.270ms       2.107us          5824  \n",
      "void at::native::mbtopk::computeBlockwiseKthCounts<u...         0.00%       0.000us         0.00%       0.000us       0.000us       5.884ms         0.02%       5.884ms       2.021us          2912  \n",
      "void at_cuda_detail::cub::DeviceScanInitKernel<at_cu...         0.00%       0.000us         0.00%       0.000us       0.000us       7.282ms         0.02%       7.282ms       1.250us          5824  \n",
      "void at_cuda_detail::cub::DeviceScanByKeyKernel<at_c...         0.00%       0.000us         0.00%       0.000us       0.000us      18.643ms         0.05%      18.643ms       3.201us          5824  \n",
      "void at::native::mbtopk::gatherTopK<c10::Half, unsig...         0.00%       0.000us         0.00%       0.000us       0.000us      15.947ms         0.04%      15.947ms       5.476us          2912  \n",
      "void at::native::radixSortKVInPlace<-2, -1, 32, 4, c...         0.00%       0.000us         0.00%       0.000us       0.000us      14.696ms         0.04%      14.696ms       5.047us          2912  \n",
      "void at::native::elementwise_kernel<128, 4, at::nati...         0.00%       0.000us         0.00%       0.000us       0.000us       8.791ms         0.02%       8.791ms       3.019us          2912  \n",
      "void at::native::(anonymous namespace)::cunn_SoftMax...         0.00%       0.000us         0.00%       0.000us       0.000us      95.583ms         0.26%      95.583ms      31.829us          3003  \n",
      "void at::native::reduce_kernel<512, 1, at::native::R...         0.00%       0.000us         0.00%       0.000us       0.000us      26.503ms         0.07%      26.503ms       9.101us          2912  \n",
      "void at::native::vectorized_elementwise_kernel<4, at...         0.00%       0.000us         0.00%       0.000us       0.000us      11.706ms         0.03%      11.706ms       2.010us          5824  \n",
      "void at::native::reduce_kernel<512, 1, at::native::R...         0.00%       0.000us         0.00%       0.000us       0.000us      25.779ms         0.07%      25.779ms       8.853us          2912  \n",
      "void at::native::vectorized_elementwise_kernel<4, at...         0.00%       0.000us         0.00%       0.000us       0.000us       6.031ms         0.02%       6.031ms       2.008us          3003  \n",
      "void at::native::reduce_kernel<512, 1, at::native::R...         0.00%       0.000us         0.00%       0.000us       0.000us      21.172ms         0.06%      21.172ms       7.271us          2912  \n",
      "void at::native::vectorized_elementwise_kernel<4, at...         0.00%       0.000us         0.00%       0.000us       0.000us       5.842ms         0.02%       5.842ms       2.006us          2912  \n",
      "                                  cudaStreamIsCapturing         0.00%     192.000us         0.00%     192.000us       0.042us       0.000us         0.00%       0.000us       0.000us          4608  \n",
      "void at::native::(anonymous namespace)::distribution...         0.00%       0.000us         0.00%       0.000us       0.000us      11.573ms         0.03%      11.573ms       3.974us          2912  \n",
      "void at::native::vectorized_elementwise_kernel<4, at...         0.00%       0.000us         0.00%       0.000us       0.000us       6.560ms         0.02%       6.560ms       2.253us          2912  \n",
      "void at::native::reduce_kernel<512, 1, at::native::R...         0.00%       0.000us         0.00%       0.000us       0.000us      41.366ms         0.11%      41.366ms      14.205us          2912  \n",
      "void at::native::vectorized_elementwise_kernel<4, at...         0.00%       0.000us         0.00%       0.000us       0.000us       5.835ms         0.02%       5.835ms       2.004us          2912  \n",
      "void at::native::vectorized_elementwise_kernel<4, at...         0.00%       0.000us         0.00%       0.000us       0.000us       5.885ms         0.02%       5.885ms       2.021us          2912  \n",
      "void at::native::vectorized_elementwise_kernel<4, at...         0.00%       0.000us         0.00%       0.000us       0.000us       5.840ms         0.02%       5.840ms       2.005us          2912  \n",
      "void at::native::vectorized_elementwise_kernel<4, at...         0.00%       0.000us         0.00%       0.000us       0.000us       5.864ms         0.02%       5.864ms       2.014us          2912  \n",
      "void at::native::(anonymous namespace)::CatArrayBatc...         0.00%       0.000us         0.00%       0.000us       0.000us      15.065ms         0.04%      15.065ms       2.547us          5915  \n",
      "void at::native::vectorized_elementwise_kernel<4, at...         0.00%       0.000us         0.00%       0.000us       0.000us      10.570ms         0.03%      10.570ms       1.210us          8736  \n",
      "void at::native::vectorized_elementwise_kernel<4, at...         0.00%       0.000us         0.00%       0.000us       0.000us      11.704ms         0.03%      11.704ms       2.010us          5824  \n",
      "void at::native::unrolled_elementwise_kernel<at::nat...         0.00%       0.000us         0.00%       0.000us       0.000us       2.921ms         0.01%       2.921ms       2.006us          1456  \n",
      "void at::native::vectorized_elementwise_kernel<4, at...         0.00%       0.000us         0.00%       0.000us       0.000us       5.868ms         0.02%       5.868ms       2.015us          2912  \n",
      "void at::native::unrolled_elementwise_kernel<at::nat...         0.00%       0.000us         0.00%       0.000us       0.000us       5.930ms         0.02%       5.930ms       2.036us          2912  \n",
      "void at::native::reduce_kernel<512, 1, at::native::R...         0.00%       0.000us         0.00%       0.000us       0.000us       8.821ms         0.02%       8.821ms       3.029us          2912  \n",
      "void splitKreduce_kernel<32, 16, int, __half, __half...         0.00%       0.000us         0.00%       0.000us       0.000us     559.292ms         1.51%     559.292ms       2.736us        204416  \n",
      "void at::native::(anonymous namespace)::CatArrayBatc...         0.00%       0.000us         0.00%       0.000us       0.000us      52.698ms         0.14%      52.698ms      12.065us          4368  \n",
      "std::enable_if<!(false), void>::type internal::gemvx...         0.00%       0.000us         0.00%       0.000us       0.000us     354.479ms         0.95%     354.479ms       5.236us         67704  \n",
      "std::enable_if<!(false), void>::type internal::gemvx...         0.00%       0.000us         0.00%       0.000us       0.000us      54.848ms         0.15%      54.848ms       3.126us         17544  \n",
      "void gemv2T_kernel_val<int, int, __half, __half, __h...         0.00%       0.000us         0.00%       0.000us       0.000us        7.796s        20.98%        7.796s      57.576us        135408  \n",
      "std::enable_if<!(false), void>::type internal::gemvx...         0.00%       0.000us         0.00%       0.000us       0.000us        5.823s        15.67%        5.823s      86.002us         67704  \n",
      "void gemv2T_kernel_val<int, int, __half, __half, __h...         0.00%       0.000us         0.00%       0.000us       0.000us        1.442s         3.88%        1.442s     511.136us          2821  \n",
      "void at::native::vectorized_elementwise_kernel<2, at...         0.00%       0.000us         0.00%       0.000us       0.000us       1.456ms         0.00%       1.456ms       2.000us           728  \n",
      "void at::native::(anonymous namespace)::CatArrayBatc...         0.00%       0.000us         0.00%       0.000us       0.000us     985.406ms         2.65%     985.406ms       7.520us        131040  \n",
      "void gemv2N_kernel<int, int, __half, __half, __half,...         0.00%       0.000us         0.00%       0.000us       0.000us     145.000us         0.00%     145.000us       2.014us            72  \n",
      "void at::native::vectorized_elementwise_kernel<4, at...         0.00%       0.000us         0.00%       0.000us       0.000us       1.455ms         0.00%       1.455ms       1.999us           728  \n",
      "void (anonymous namespace)::softmax_warp_forward<flo...         0.00%       0.000us         0.00%       0.000us       0.000us       2.854ms         0.01%       2.854ms       2.016us          1416  \n",
      "void (anonymous namespace)::softmax_warp_forward<flo...         0.00%       0.000us         0.00%       0.000us       0.000us       7.917ms         0.02%       7.917ms       2.024us          3912  \n",
      "void cutlass::Kernel<cutlass_80_wmma_tensorop_f16_s1...         0.00%       0.000us         0.00%       0.000us       0.000us       2.043ms         0.01%       2.043ms       3.133us           652  \n",
      "void cutlass::Kernel<cutlass_80_wmma_tensorop_f16_s1...         0.00%       0.000us         0.00%       0.000us       0.000us     792.000us         0.00%     792.000us       3.000us           264  \n",
      "                                             cudaMalloc         2.21%     637.732ms         2.21%     637.732ms       6.857ms       0.000us         0.00%       0.000us       0.000us            93  \n",
      "void (anonymous namespace)::softmax_warp_forward<flo...         0.00%       0.000us         0.00%       0.000us       0.000us      12.770ms         0.03%      12.770ms       2.127us          6004  \n",
      "void at::native::(anonymous namespace)::CatArrayBatc...         0.00%       0.000us         0.00%       0.000us       0.000us       2.024ms         0.01%       2.024ms      22.242us            91  \n",
      "-------------------------------------------------------  ------------  ------------  ------------  ------------  ------------  ------------  ------------  ------------  ------------  ------------  \n",
      "Self CPU time total: 28.797s\n",
      "Self CUDA time total: 37.153s\n",
      "\n"
     ]
    }
   ],
   "source": [
    "p = profile_model(SpsModel(model, large_model, 512), {'text_prompt': inputs, 'K':32}, ProfilerConfig(amp=False))\n",
    "print(p.key_averages())"
   ]
  },
  {
   "cell_type": "markdown",
   "metadata": {},
   "source": [
    "Ускорение менее заметное, но это было ожидаемо, потому что при больших K acceptence rate маленькой модели мал, что заставляет большую модель делать больше итераций, соответственно замедляя работу алгоритма"
   ]
  },
  {
   "cell_type": "markdown",
   "metadata": {},
   "source": [
    "Возьмем K=9"
   ]
  },
  {
   "cell_type": "code",
   "execution_count": 61,
   "metadata": {},
   "outputs": [
    {
     "name": "stderr",
     "output_type": "stream",
     "text": [
      "STAGE:2024-05-03 10:42:11 1597137:1597137 ActivityProfilerController.cpp:311] Completed Stage: Warm Up\n",
      "STAGE:2024-05-03 10:43:26 1597137:1597137 ActivityProfilerController.cpp:317] Completed Stage: Collection\n",
      "STAGE:2024-05-03 10:43:28 1597137:1597137 ActivityProfilerController.cpp:321] Completed Stage: Post Processing\n"
     ]
    },
    {
     "name": "stdout",
     "output_type": "stream",
     "text": [
      "-------------------------------------------------------  ------------  ------------  ------------  ------------  ------------  ------------  ------------  ------------  ------------  ------------  \n",
      "                                                   Name    Self CPU %      Self CPU   CPU total %     CPU total  CPU time avg     Self CUDA   Self CUDA %    CUDA total  CUDA time avg    # of Calls  \n",
      "-------------------------------------------------------  ------------  ------------  ------------  ------------  ------------  ------------  ------------  ------------  ------------  ------------  \n",
      "                                       cudaLaunchKernel        50.99%       13.576s        50.99%       13.576s       7.971us       0.000us         0.00%       0.000us       0.000us       1703023  \n",
      "void at::native::vectorized_elementwise_kernel<4, at...         0.00%       0.000us         0.00%       0.000us       0.000us       7.095ms         0.02%       7.095ms       2.039us          3479  \n",
      "void at::native::reduce_kernel<512, 1, at::native::R...         0.00%       0.000us         0.00%       0.000us       0.000us     717.000us         0.00%     717.000us       3.983us           180  \n",
      "                                        cudaMemcpyAsync        40.86%       10.879s        40.86%       10.879s     101.627us       0.000us         0.00%       0.000us       0.000us        107050  \n",
      "                       Memcpy DtoH (Device -> Pageable)         0.00%       0.000us         0.00%       0.000us       0.000us      48.113ms         0.14%      48.113ms       1.002us         48035  \n",
      "                                  cudaStreamSynchronize         6.42%        1.708s         6.42%        1.708s      18.258us       0.000us         0.00%       0.000us       0.000us         93575  \n",
      "void at::native::vectorized_elementwise_kernel<4, at...         0.00%       0.000us         0.00%       0.000us       0.000us      37.460ms         0.11%      37.460ms       1.665us         22500  \n",
      "void at::native::unrolled_elementwise_kernel<at::nat...         0.00%       0.000us         0.00%       0.000us       0.000us       4.054ms         0.01%       4.054ms       2.047us          1980  \n",
      "void at::native::reduce_kernel<512, 1, at::native::R...         0.00%       0.000us         0.00%       0.000us       0.000us       6.220ms         0.02%       6.220ms       3.141us          1980  \n",
      "void at::native::vectorized_elementwise_kernel<4, at...         0.00%       0.000us         0.00%       0.000us       0.000us       1.101ms         0.00%       1.101ms       2.039us           540  \n",
      "void at_cuda_detail::cub::DeviceScanInitKernel<at_cu...         0.00%       0.000us         0.00%       0.000us       0.000us      36.973ms         0.11%      36.973ms       1.670us         22140  \n",
      "                                    cudaPeekAtLastError         0.02%       4.440ms         0.02%       4.440ms       0.044us       0.000us         0.00%       0.000us       0.000us        101506  \n",
      "cudaOccupancyMaxActiveBlocksPerMultiprocessorWithFla...         1.05%     278.355ms         1.05%     278.355ms       0.464us       0.000us         0.00%       0.000us       0.000us        599646  \n",
      "                                 cudaDeviceGetAttribute         0.00%     453.000us         0.00%     453.000us       0.018us       0.000us         0.00%       0.000us       0.000us         25380  \n",
      "void at_cuda_detail::cub::DeviceScanKernel<at_cuda_d...         0.00%       0.000us         0.00%       0.000us       0.000us      56.984ms         0.16%      56.984ms       2.574us         22140  \n",
      "                         Memcpy DtoD (Device -> Device)         0.00%       0.000us         0.00%       0.000us       0.000us      40.549ms         0.12%      40.549ms       3.009us         13475  \n",
      "void compute_cuda_kernel<long>(long*, long*, long*, ...         0.00%       0.000us         0.00%       0.000us       0.000us      43.484ms         0.13%      43.484ms       2.119us         20520  \n",
      "void at::native::(anonymous namespace)::indexSelectS...         0.00%       0.000us         0.00%       0.000us       0.000us       1.072ms         0.00%       1.072ms       2.978us           360  \n",
      "void (anonymous namespace)::elementwise_kernel_with_...         0.00%       0.000us         0.00%       0.000us       0.000us     990.000us         0.00%     990.000us       1.833us           540  \n",
      "void at::native::vectorized_elementwise_kernel<4, at...         0.00%       0.000us         0.00%       0.000us       0.000us       6.701ms         0.02%       6.701ms       2.031us          3299  \n",
      "void at::native::vectorized_elementwise_kernel<4, at...         0.00%       0.000us         0.00%       0.000us       0.000us       3.466ms         0.01%       3.466ms       2.140us          1620  \n",
      "void at::native::(anonymous namespace)::indexSelectS...         0.00%       0.000us         0.00%       0.000us       0.000us       8.122ms         0.02%       8.122ms       2.798us          2903  \n",
      "void at::native::vectorized_elementwise_kernel<4, at...         0.00%       0.000us         0.00%       0.000us       0.000us     905.997ms         2.61%     905.997ms       6.793us        133380  \n",
      "void at::native::vectorized_elementwise_kernel<4, at...         0.00%       0.000us         0.00%       0.000us       0.000us     384.000us         0.00%     384.000us       2.133us           180  \n",
      "void at::native::elementwise_kernel<128, 4, at::nati...         0.00%       0.000us         0.00%       0.000us       0.000us     705.000us         0.00%     705.000us       3.917us           180  \n",
      "void at::native::vectorized_elementwise_kernel<4, at...         0.00%       0.000us         0.00%       0.000us       0.000us     458.000us         0.00%     458.000us       2.544us           180  \n",
      "void at::native::unrolled_elementwise_kernel<at::nat...         0.00%       0.000us         0.00%       0.000us       0.000us     419.745ms         1.21%     419.745ms       8.299us         50580  \n",
      "void at::native::elementwise_kernel<128, 4, at::nati...         0.00%       0.000us         0.00%       0.000us       0.000us     828.000us         0.00%     828.000us       4.600us           180  \n",
      "void at::native::vectorized_elementwise_kernel<4, at...         0.00%       0.000us         0.00%       0.000us       0.000us       3.288ms         0.01%       3.288ms       2.030us          1620  \n",
      "void at::native::unrolled_elementwise_kernel<at::nat...         0.00%       0.000us         0.00%       0.000us       0.000us       4.987ms         0.01%       4.987ms       2.771us          1800  \n",
      "void at::native::vectorized_elementwise_kernel<4, at...         0.00%       0.000us         0.00%       0.000us       0.000us       7.131ms         0.02%       7.131ms       2.085us          3420  \n",
      "void at::native::(anonymous namespace)::vectorized_l...         0.00%       0.000us         0.00%       0.000us       0.000us     519.097ms         1.49%     519.097ms       6.136us         84600  \n",
      "ampere_fp16_s16816gemm_fp16_64x64_ldg8_f2f_stages_64...         0.00%       0.000us         0.00%       0.000us       0.000us      16.547ms         0.05%      16.547ms      25.535us           648  \n",
      "void at::native::unrolled_elementwise_kernel<at::nat...         0.00%       0.000us         0.00%       0.000us       0.000us     579.289ms         1.67%     579.289ms       7.432us         77940  \n",
      "void gemmSN_TN_kernel<float, 128, 16, 2, 4, 6, 7, fa...         0.00%       0.000us         0.00%       0.000us       0.000us     280.000us         0.00%     280.000us       3.889us            72  \n",
      "                       Memcpy HtoD (Pageable -> Device)         0.00%       0.000us         0.00%       0.000us       0.000us      34.253ms         0.10%      34.253ms       0.752us         45540  \n",
      "void at::native::elementwise_kernel<128, 2, at::nati...         0.00%       0.000us         0.00%       0.000us       0.000us     339.577ms         0.98%     339.577ms       7.732us         43920  \n",
      "void at::native::elementwise_kernel<128, 4, at::nati...         0.00%       0.000us         0.00%       0.000us       0.000us     283.591ms         0.82%     283.591ms       7.294us         38880  \n",
      "void (anonymous namespace)::softmax_warp_forward<flo...         0.00%       0.000us         0.00%       0.000us       0.000us     736.000us         0.00%     736.000us       2.190us           336  \n",
      "                       ampere_fp16_sgemm_fp16_128x32_nn         0.00%       0.000us         0.00%       0.000us       0.000us     348.000us         0.00%     348.000us       4.833us            72  \n",
      "void at::native::elementwise_kernel<128, 4, at::nati...         0.00%       0.000us         0.00%       0.000us       0.000us     161.577ms         0.46%     161.577ms       5.473us         29520  \n",
      "ampere_fp16_s16816gemm_fp16_64x64_sliced1x2_ldg8_rel...         0.00%       0.000us         0.00%       0.000us       0.000us      57.059ms         0.16%      57.059ms     101.168us           564  \n",
      "void cutlass::Kernel<cutlass_80_wmma_tensorop_f16_s1...         0.00%       0.000us         0.00%       0.000us       0.000us        2.548s         7.33%        2.548s      24.500us        104004  \n",
      "void at::native::vectorized_elementwise_kernel<4, at...         0.00%       0.000us         0.00%       0.000us       0.000us        1.154s         3.32%        1.154s       8.760us        131760  \n",
      "void at::native::vectorized_elementwise_kernel<4, at...         0.00%       0.000us         0.00%       0.000us       0.000us     397.847ms         1.14%     397.847ms       9.058us         43920  \n",
      "void at::native::vectorized_elementwise_kernel<4, at...         0.00%       0.000us         0.00%       0.000us       0.000us     395.106ms         1.14%     395.106ms       8.996us         43920  \n",
      "void at::native::vectorized_elementwise_kernel<4, at...         0.00%       0.000us         0.00%       0.000us       0.000us     390.764ms         1.12%     390.764ms       8.897us         43920  \n",
      "void at::native::vectorized_elementwise_kernel<4, at...         0.00%       0.000us         0.00%       0.000us       0.000us     550.819ms         1.58%     550.819ms      12.541us         43920  \n",
      "void cutlass::Kernel<cutlass_75_wmma_tensorop_f16_s1...         0.00%       0.000us         0.00%       0.000us       0.000us       7.883ms         0.02%       7.883ms     525.533us            15  \n",
      "                                        cudaMemsetAsync         0.66%     174.453ms         0.66%     174.453ms       6.617us       0.000us         0.00%       0.000us       0.000us         26363  \n",
      "                                        Memset (Device)         0.00%       0.000us         0.00%       0.000us       0.000us      25.673ms         0.07%      25.673ms       0.974us         26363  \n",
      "void at::native::mbtopk::fill<unsigned int, unsigned...         0.00%       0.000us         0.00%       0.000us       0.000us       3.318ms         0.01%       3.318ms       2.048us          1620  \n",
      "void at::native::mbtopk::radixFindKthValues<c10::Hal...         0.00%       0.000us         0.00%       0.000us       0.000us      18.124ms         0.05%      18.124ms       5.594us          3240  \n",
      "void at::native::mbtopk::computeBlockwiseWithinKCoun...         0.00%       0.000us         0.00%       0.000us       0.000us       7.010ms         0.02%       7.010ms       2.164us          3240  \n",
      "void at::native::mbtopk::computeBlockwiseKthCounts<u...         0.00%       0.000us         0.00%       0.000us       0.000us       3.283ms         0.01%       3.283ms       2.027us          1620  \n",
      "void at_cuda_detail::cub::DeviceScanInitKernel<at_cu...         0.00%       0.000us         0.00%       0.000us       0.000us       4.127ms         0.01%       4.127ms       1.274us          3240  \n",
      "void at_cuda_detail::cub::DeviceScanByKeyKernel<at_c...         0.00%       0.000us         0.00%       0.000us       0.000us      10.636ms         0.03%      10.636ms       3.283us          3240  \n",
      "void at::native::mbtopk::gatherTopK<c10::Half, unsig...         0.00%       0.000us         0.00%       0.000us       0.000us       9.112ms         0.03%       9.112ms       5.625us          1620  \n",
      "void at::native::radixSortKVInPlace<-2, -1, 32, 4, c...         0.00%       0.000us         0.00%       0.000us       0.000us       8.269ms         0.02%       8.269ms       5.104us          1620  \n",
      "void at::native::elementwise_kernel<128, 4, at::nati...         0.00%       0.000us         0.00%       0.000us       0.000us       4.967ms         0.01%       4.967ms       3.066us          1620  \n",
      "void at::native::(anonymous namespace)::cunn_SoftMax...         0.00%       0.000us         0.00%       0.000us       0.000us      58.797ms         0.17%      58.797ms      32.665us          1800  \n",
      "void at::native::reduce_kernel<512, 1, at::native::R...         0.00%       0.000us         0.00%       0.000us       0.000us      14.882ms         0.04%      14.882ms       9.186us          1620  \n",
      "void at::native::vectorized_elementwise_kernel<4, at...         0.00%       0.000us         0.00%       0.000us       0.000us       6.520ms         0.02%       6.520ms       2.012us          3240  \n",
      "void at::native::reduce_kernel<512, 1, at::native::R...         0.00%       0.000us         0.00%       0.000us       0.000us      14.516ms         0.04%      14.516ms       8.960us          1620  \n",
      "void at::native::vectorized_elementwise_kernel<4, at...         0.00%       0.000us         0.00%       0.000us       0.000us       3.646ms         0.01%       3.646ms       2.026us          1800  \n",
      "void at::native::reduce_kernel<512, 1, at::native::R...         0.00%       0.000us         0.00%       0.000us       0.000us      11.889ms         0.03%      11.889ms       7.339us          1620  \n",
      "void at::native::vectorized_elementwise_kernel<4, at...         0.00%       0.000us         0.00%       0.000us       0.000us       3.293ms         0.01%       3.293ms       2.033us          1620  \n",
      "                                  cudaStreamIsCapturing         0.00%     264.000us         0.00%     264.000us       0.082us       0.000us         0.00%       0.000us       0.000us          3218  \n",
      "void at::native::(anonymous namespace)::distribution...         0.00%       0.000us         0.00%       0.000us       0.000us       6.453ms         0.02%       6.453ms       3.983us          1620  \n",
      "void at::native::vectorized_elementwise_kernel<4, at...         0.00%       0.000us         0.00%       0.000us       0.000us       3.634ms         0.01%       3.634ms       2.243us          1620  \n",
      "void at::native::reduce_kernel<512, 1, at::native::R...         0.00%       0.000us         0.00%       0.000us       0.000us      23.225ms         0.07%      23.225ms      14.336us          1620  \n",
      "void at::native::vectorized_elementwise_kernel<4, at...         0.00%       0.000us         0.00%       0.000us       0.000us       3.287ms         0.01%       3.287ms       2.029us          1620  \n",
      "void at::native::vectorized_elementwise_kernel<4, at...         0.00%       0.000us         0.00%       0.000us       0.000us       3.262ms         0.01%       3.262ms       2.014us          1620  \n",
      "void at::native::vectorized_elementwise_kernel<4, at...         0.00%       0.000us         0.00%       0.000us       0.000us       3.269ms         0.01%       3.269ms       2.018us          1620  \n",
      "void at::native::vectorized_elementwise_kernel<4, at...         0.00%       0.000us         0.00%       0.000us       0.000us       3.293ms         0.01%       3.293ms       2.033us          1620  \n",
      "void at::native::(anonymous namespace)::CatArrayBatc...         0.00%       0.000us         0.00%       0.000us       0.000us       8.939ms         0.03%       8.939ms       2.614us          3420  \n",
      "void at::native::vectorized_elementwise_kernel<4, at...         0.00%       0.000us         0.00%       0.000us       0.000us       6.045ms         0.02%       6.045ms       1.244us          4860  \n",
      "void at::native::vectorized_elementwise_kernel<4, at...         0.00%       0.000us         0.00%       0.000us       0.000us       6.540ms         0.02%       6.540ms       2.019us          3240  \n",
      "void at::native::unrolled_elementwise_kernel<at::nat...         0.00%       0.000us         0.00%       0.000us       0.000us       1.722ms         0.00%       1.722ms       2.055us           838  \n",
      "void at::native::vectorized_elementwise_kernel<4, at...         0.00%       0.000us         0.00%       0.000us       0.000us       3.278ms         0.01%       3.278ms       2.023us          1620  \n",
      "void at::native::unrolled_elementwise_kernel<at::nat...         0.00%       0.000us         0.00%       0.000us       0.000us       3.400ms         0.01%       3.400ms       2.099us          1620  \n",
      "void at::native::reduce_kernel<512, 1, at::native::R...         0.00%       0.000us         0.00%       0.000us       0.000us       5.017ms         0.01%       5.017ms       3.097us          1620  \n",
      "void splitKreduce_kernel<32, 16, int, __half, __half...         0.00%       0.000us         0.00%       0.000us       0.000us     300.162ms         0.86%     300.162ms       2.827us        106192  \n",
      "void at::native::(anonymous namespace)::CatArrayBatc...         0.00%       0.000us         0.00%       0.000us       0.000us     112.210ms         0.32%     112.210ms      12.987us          8640  \n",
      "std::enable_if<!(false), void>::type internal::gemvx...         0.00%       0.000us         0.00%       0.000us       0.000us     189.861ms         0.55%     189.861ms       5.494us         34560  \n",
      "std::enable_if<!(false), void>::type internal::gemvx...         0.00%       0.000us         0.00%       0.000us       0.000us      25.420ms         0.07%      25.420ms       3.079us          8256  \n",
      "void gemv2T_kernel_val<int, int, __half, __half, __h...         0.00%       0.000us         0.00%       0.000us       0.000us        3.984s        11.46%        3.984s      57.632us         69120  \n",
      "std::enable_if<!(false), void>::type internal::gemvx...         0.00%       0.000us         0.00%       0.000us       0.000us        2.973s         8.56%        2.973s      86.039us         34560  \n",
      "void gemv2T_kernel_val<int, int, __half, __half, __h...         0.00%       0.000us         0.00%       0.000us       0.000us     736.128ms         2.12%     736.128ms     511.200us          1440  \n",
      "void at::native::vectorized_elementwise_kernel<2, at...         0.00%       0.000us         0.00%       0.000us       0.000us     792.000us         0.00%     792.000us       2.026us           391  \n",
      "void at::native::(anonymous namespace)::CatArrayBatc...         0.00%       0.000us         0.00%       0.000us       0.000us     471.232ms         1.36%     471.232ms       7.792us         60480  \n",
      "void gemv2N_kernel<int, int, __half, __half, __half,...         0.00%       0.000us         0.00%       0.000us       0.000us     149.000us         0.00%     149.000us       2.069us            72  \n",
      "void at::native::vectorized_elementwise_kernel<4, at...         0.00%       0.000us         0.00%       0.000us       0.000us     789.000us         0.00%     789.000us       2.018us           391  \n",
      "void (anonymous namespace)::softmax_warp_forward<flo...         0.00%       0.000us         0.00%       0.000us       0.000us       2.775ms         0.01%       2.775ms       2.011us          1380  \n",
      "void at::native::(anonymous namespace)::CatArrayBatc...         0.00%       0.000us         0.00%       0.000us       0.000us       1.435ms         0.00%       1.435ms       7.972us           180  \n",
      "ampere_fp16_s16816gemm_fp16_64x64_sliced1x2_ldg8_f2f...         0.00%       0.000us         0.00%       0.000us       0.000us      49.781ms         0.14%      49.781ms      47.141us          1056  \n",
      "void at::native::elementwise_kernel<128, 2, at::nati...         0.00%       0.000us         0.00%       0.000us       0.000us     100.151ms         0.29%     100.151ms       2.208us         45360  \n",
      "void at::native::_scatter_gather_elementwise_kernel<...         0.00%       0.000us         0.00%       0.000us       0.000us      20.121ms         0.06%      20.121ms       3.992us          5040  \n",
      "void at::native::elementwise_kernel<128, 4, at::nati...         0.00%       0.000us         0.00%       0.000us       0.000us      43.276ms         0.12%      43.276ms       2.147us         20160  \n",
      "void at::native::reduce_kernel<512, 1, at::native::R...         0.00%       0.000us         0.00%       0.000us       0.000us      68.737ms         0.20%      68.737ms       3.410us         20160  \n",
      "-------------------------------------------------------  ------------  ------------  ------------  ------------  ------------  ------------  ------------  ------------  ------------  ------------  \n",
      "Self CPU time total: 26.624s\n",
      "Self CUDA time total: 34.757s\n",
      "\n"
     ]
    }
   ],
   "source": [
    "p = profile_model(SpsModel(model, large_model, 512), {'text_prompt': inputs, 'K':9}, ProfilerConfig(amp=False))\n",
    "print(p.key_averages())"
   ]
  },
  {
   "cell_type": "markdown",
   "metadata": {},
   "source": [
    "Получили результат лучше, чем при K=32, но хуже, чем при K=16"
   ]
  },
  {
   "cell_type": "markdown",
   "metadata": {},
   "source": [
    "Изобразим зависимость acceptence_rate от K"
   ]
  },
  {
   "cell_type": "code",
   "execution_count": 55,
   "metadata": {},
   "outputs": [],
   "source": [
    "K = [8, 16, 32, 64, 128]\n",
    "acceptence_rates = []\n",
    "for k in K:\n",
    "    res, rate = speculative_sampling(inputs, model, large_model, 1024, k)\n",
    "    acceptence_rates.append(rate)"
   ]
  },
  {
   "cell_type": "code",
   "execution_count": 56,
   "metadata": {},
   "outputs": [
    {
     "name": "stdout",
     "output_type": "stream",
     "text": [
      "acceptence rate for K=8:  0.895\n",
      "acceptence rate for K=16:  0.8473214285714286\n",
      "acceptence rate for K=32:  0.6360677083333334\n",
      "acceptence rate for K=64:  0.4459821428571429\n",
      "acceptence rate for K=128:  0.338125\n"
     ]
    }
   ],
   "source": [
    "for ind, k in enumerate(K):\n",
    "    print(f'acceptence rate for K={k}: ', acceptence_rates[ind])"
   ]
  },
  {
   "cell_type": "code",
   "execution_count": 57,
   "metadata": {},
   "outputs": [
    {
     "data": {
      "text/plain": [
       "Text(0, 0.5, 'Acceptence rate')"
      ]
     },
     "execution_count": 57,
     "metadata": {},
     "output_type": "execute_result"
    },
    {
     "data": {
      "image/png": "[encoded data removed]",
      "text/plain": [
       "<Figure size 640x480 with 1 Axes>"
      ]
     },
     "metadata": {},
     "output_type": "display_data"
    }
   ],
   "source": [
    "plt.plot(K, acceptence_rates)\n",
    "plt.xlabel(\"K value\")\n",
    "plt.ylabel(\"Acceptence rate\")"
   ]
  },
  {
   "cell_type": "markdown",
   "metadata": {},
   "source": [
    "видим, что с ростом K acceptence rate убывает, что очень важно для алгоритма"
   ]
  },
  {
   "cell_type": "markdown",
   "metadata": {},
   "source": [
    "Вывод:\n",
    "\n",
    "В работе я сравнил два метода сэмплирования токенов для языковых моделей, как оказалось, speculative sampling позволяет получить значительный прирост в эффективности, и поэтому может использоваться на практике. Однако, стоит отметить, что speculative sampling требует больше памяти GPU, чем авторегрессия, что приносит свои неудобства в работе"
   ]
  }
 ],
 "metadata": {
  "kernelspec": {
   "display_name": "Python 3 (ipykernel)",
   "language": "python",
   "name": "python3"
  },
  "language_info": {
   "codemirror_mode": {
    "name": "ipython",
    "version": 3
   },
   "file_extension": ".py",
   "mimetype": "text/x-python",
   "name": "python",
   "nbconvert_exporter": "python",
   "pygments_lexer": "ipython3",
   "version": "3.10.6"
  }
 },
 "nbformat": 4,
 "nbformat_minor": 2
}
